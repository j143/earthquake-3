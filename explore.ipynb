{
 "cells": [
  {
   "cell_type": "code",
   "execution_count": 22,
   "metadata": {
    "collapsed": false
   },
   "outputs": [],
   "source": [
    "import sklearn\n",
    "import matplotlib.pyplot as plt\n",
    "import numpy as np\n",
    "import pandas as pd\n",
    "from sklearn_pandas import DataFrameMapper, cross_val_score\n",
    "import sklearn.preprocessing, sklearn.decomposition, sklearn.linear_model, sklearn.pipeline, sklearn.metrics\n",
    "import matplotlib\n",
    "matplotlib.style.use('ggplot')\n",
    "%matplotlib inline"
   ]
  },
  {
   "cell_type": "code",
   "execution_count": 23,
   "metadata": {
    "collapsed": true
   },
   "outputs": [],
   "source": [
    "df = pd.read_csv('india_surroundings_1mar2016 _28_feb_2017.csv')"
   ]
  },
  {
   "cell_type": "code",
   "execution_count": 24,
   "metadata": {
    "collapsed": false
   },
   "outputs": [
    {
     "data": {
      "text/html": [
       "<div>\n",
       "<table border=\"1\" class=\"dataframe\">\n",
       "  <thead>\n",
       "    <tr style=\"text-align: right;\">\n",
       "      <th></th>\n",
       "      <th>Year</th>\n",
       "      <th>Month</th>\n",
       "      <th>Day</th>\n",
       "      <th>Time UTC</th>\n",
       "      <th>Mag</th>\n",
       "      <th>Lat</th>\n",
       "      <th>Lon</th>\n",
       "      <th>Depth km</th>\n",
       "      <th>Region</th>\n",
       "      <th>IRIS ID</th>\n",
       "      <th>Timestamp</th>\n",
       "    </tr>\n",
       "  </thead>\n",
       "  <tbody>\n",
       "    <tr>\n",
       "      <th>0</th>\n",
       "      <td>2017</td>\n",
       "      <td>2</td>\n",
       "      <td>27</td>\n",
       "      <td>04:21:42</td>\n",
       "      <td>4.6</td>\n",
       "      <td>27.35</td>\n",
       "      <td>85.96</td>\n",
       "      <td>25.7</td>\n",
       "      <td>NEPAL</td>\n",
       "      <td>10004460</td>\n",
       "      <td>1488169302</td>\n",
       "    </tr>\n",
       "    <tr>\n",
       "      <th>1</th>\n",
       "      <td>2017</td>\n",
       "      <td>2</td>\n",
       "      <td>27</td>\n",
       "      <td>03:37:46</td>\n",
       "      <td>4.7</td>\n",
       "      <td>27.50</td>\n",
       "      <td>86.17</td>\n",
       "      <td>10.0</td>\n",
       "      <td>NEPAL</td>\n",
       "      <td>10004453</td>\n",
       "      <td>1488166666</td>\n",
       "    </tr>\n",
       "    <tr>\n",
       "      <th>2</th>\n",
       "      <td>2017</td>\n",
       "      <td>2</td>\n",
       "      <td>26</td>\n",
       "      <td>18:48:45</td>\n",
       "      <td>4.8</td>\n",
       "      <td>30.28</td>\n",
       "      <td>83.56</td>\n",
       "      <td>10.0</td>\n",
       "      <td>XIZANG</td>\n",
       "      <td>10004374</td>\n",
       "      <td>1488134925</td>\n",
       "    </tr>\n",
       "    <tr>\n",
       "      <th>3</th>\n",
       "      <td>2017</td>\n",
       "      <td>2</td>\n",
       "      <td>26</td>\n",
       "      <td>05:57:03</td>\n",
       "      <td>4.1</td>\n",
       "      <td>36.45</td>\n",
       "      <td>71.23</td>\n",
       "      <td>103.9</td>\n",
       "      <td>AFGHANISTAN-TAJIKISTAN BORD REG.</td>\n",
       "      <td>10004276</td>\n",
       "      <td>1488088623</td>\n",
       "    </tr>\n",
       "    <tr>\n",
       "      <th>4</th>\n",
       "      <td>2017</td>\n",
       "      <td>2</td>\n",
       "      <td>24</td>\n",
       "      <td>12:50:59</td>\n",
       "      <td>4.3</td>\n",
       "      <td>36.25</td>\n",
       "      <td>70.00</td>\n",
       "      <td>134.9</td>\n",
       "      <td>HINDU KUSH REGION, AFGHANISTAN</td>\n",
       "      <td>10003539</td>\n",
       "      <td>1487940659</td>\n",
       "    </tr>\n",
       "  </tbody>\n",
       "</table>\n",
       "</div>"
      ],
      "text/plain": [
       "   Year  Month  Day  Time UTC  Mag    Lat    Lon  Depth km  \\\n",
       "0  2017      2   27  04:21:42  4.6  27.35  85.96      25.7   \n",
       "1  2017      2   27  03:37:46  4.7  27.50  86.17      10.0   \n",
       "2  2017      2   26  18:48:45  4.8  30.28  83.56      10.0   \n",
       "3  2017      2   26  05:57:03  4.1  36.45  71.23     103.9   \n",
       "4  2017      2   24  12:50:59  4.3  36.25  70.00     134.9   \n",
       "\n",
       "                             Region   IRIS ID   Timestamp  \n",
       "0                             NEPAL  10004460  1488169302  \n",
       "1                             NEPAL  10004453  1488166666  \n",
       "2                            XIZANG  10004374  1488134925  \n",
       "3  AFGHANISTAN-TAJIKISTAN BORD REG.  10004276  1488088623  \n",
       "4    HINDU KUSH REGION, AFGHANISTAN  10003539  1487940659  "
      ]
     },
     "execution_count": 24,
     "metadata": {},
     "output_type": "execute_result"
    }
   ],
   "source": [
    "df.head()"
   ]
  },
  {
   "cell_type": "code",
   "execution_count": 25,
   "metadata": {
    "collapsed": false
   },
   "outputs": [],
   "source": [
    "del df['IRIS ID'], df['Year'], df['Month'], df['Day'], df['Time UTC']"
   ]
  },
  {
   "cell_type": "code",
   "execution_count": 26,
   "metadata": {
    "collapsed": false
   },
   "outputs": [
    {
     "data": {
      "text/html": [
       "<div>\n",
       "<table border=\"1\" class=\"dataframe\">\n",
       "  <thead>\n",
       "    <tr style=\"text-align: right;\">\n",
       "      <th></th>\n",
       "      <th>Mag</th>\n",
       "      <th>Lat</th>\n",
       "      <th>Lon</th>\n",
       "      <th>Depth km</th>\n",
       "      <th>Timestamp</th>\n",
       "    </tr>\n",
       "  </thead>\n",
       "  <tbody>\n",
       "    <tr>\n",
       "      <th>count</th>\n",
       "      <td>280.000000</td>\n",
       "      <td>280.000000</td>\n",
       "      <td>280.000000</td>\n",
       "      <td>280.000000</td>\n",
       "      <td>2.800000e+02</td>\n",
       "    </tr>\n",
       "    <tr>\n",
       "      <th>mean</th>\n",
       "      <td>4.494643</td>\n",
       "      <td>31.771107</td>\n",
       "      <td>79.282536</td>\n",
       "      <td>90.975357</td>\n",
       "      <td>1.471467e+09</td>\n",
       "    </tr>\n",
       "    <tr>\n",
       "      <th>std</th>\n",
       "      <td>0.416428</td>\n",
       "      <td>6.894564</td>\n",
       "      <td>10.009182</td>\n",
       "      <td>71.509370</td>\n",
       "      <td>9.126734e+06</td>\n",
       "    </tr>\n",
       "    <tr>\n",
       "      <th>min</th>\n",
       "      <td>3.600000</td>\n",
       "      <td>8.350000</td>\n",
       "      <td>68.920000</td>\n",
       "      <td>4.100000</td>\n",
       "      <td>1.456901e+09</td>\n",
       "    </tr>\n",
       "    <tr>\n",
       "      <th>25%</th>\n",
       "      <td>4.200000</td>\n",
       "      <td>27.950000</td>\n",
       "      <td>70.830000</td>\n",
       "      <td>25.800000</td>\n",
       "      <td>1.463153e+09</td>\n",
       "    </tr>\n",
       "    <tr>\n",
       "      <th>50%</th>\n",
       "      <td>4.400000</td>\n",
       "      <td>35.870000</td>\n",
       "      <td>71.925000</td>\n",
       "      <td>90.150000</td>\n",
       "      <td>1.470943e+09</td>\n",
       "    </tr>\n",
       "    <tr>\n",
       "      <th>75%</th>\n",
       "      <td>4.600000</td>\n",
       "      <td>36.520000</td>\n",
       "      <td>89.397500</td>\n",
       "      <td>135.375000</td>\n",
       "      <td>1.479141e+09</td>\n",
       "    </tr>\n",
       "    <tr>\n",
       "      <th>max</th>\n",
       "      <td>6.900000</td>\n",
       "      <td>37.760000</td>\n",
       "      <td>96.750000</td>\n",
       "      <td>298.300000</td>\n",
       "      <td>1.488169e+09</td>\n",
       "    </tr>\n",
       "  </tbody>\n",
       "</table>\n",
       "</div>"
      ],
      "text/plain": [
       "              Mag         Lat         Lon    Depth km     Timestamp\n",
       "count  280.000000  280.000000  280.000000  280.000000  2.800000e+02\n",
       "mean     4.494643   31.771107   79.282536   90.975357  1.471467e+09\n",
       "std      0.416428    6.894564   10.009182   71.509370  9.126734e+06\n",
       "min      3.600000    8.350000   68.920000    4.100000  1.456901e+09\n",
       "25%      4.200000   27.950000   70.830000   25.800000  1.463153e+09\n",
       "50%      4.400000   35.870000   71.925000   90.150000  1.470943e+09\n",
       "75%      4.600000   36.520000   89.397500  135.375000  1.479141e+09\n",
       "max      6.900000   37.760000   96.750000  298.300000  1.488169e+09"
      ]
     },
     "execution_count": 26,
     "metadata": {},
     "output_type": "execute_result"
    }
   ],
   "source": [
    "df.describe()"
   ]
  },
  {
   "cell_type": "code",
   "execution_count": 27,
   "metadata": {
    "collapsed": false
   },
   "outputs": [
    {
     "name": "stderr",
     "output_type": "stream",
     "text": [
      "/home/nikhil/programs/anaconda3/lib/python3.5/site-packages/sklearn/utils/validation.py:429: DataConversionWarning: Data with input dtype int64 was converted to float64 by StandardScaler.\n",
      "  warnings.warn(msg, _DataConversionWarning)\n"
     ]
    }
   ],
   "source": []
  },
  {
   "cell_type": "code",
   "execution_count": 28,
   "metadata": {
    "collapsed": false
   },
   "outputs": [
    {
     "data": {
      "text/html": [
       "<div>\n",
       "<table border=\"1\" class=\"dataframe\">\n",
       "  <thead>\n",
       "    <tr style=\"text-align: right;\">\n",
       "      <th></th>\n",
       "      <th>Mag</th>\n",
       "      <th>Depth km</th>\n",
       "      <th>Lat</th>\n",
       "      <th>Lon</th>\n",
       "      <th>Timestamp</th>\n",
       "    </tr>\n",
       "  </thead>\n",
       "  <tbody>\n",
       "    <tr>\n",
       "      <th>Mag</th>\n",
       "      <td>1.000000</td>\n",
       "      <td>-0.156322</td>\n",
       "      <td>-0.272058</td>\n",
       "      <td>0.334685</td>\n",
       "      <td>0.071506</td>\n",
       "    </tr>\n",
       "    <tr>\n",
       "      <th>Depth km</th>\n",
       "      <td>-0.156322</td>\n",
       "      <td>1.000000</td>\n",
       "      <td>0.471849</td>\n",
       "      <td>-0.569523</td>\n",
       "      <td>-0.026960</td>\n",
       "    </tr>\n",
       "    <tr>\n",
       "      <th>Lat</th>\n",
       "      <td>-0.272058</td>\n",
       "      <td>0.471849</td>\n",
       "      <td>1.000000</td>\n",
       "      <td>-0.785022</td>\n",
       "      <td>0.055928</td>\n",
       "    </tr>\n",
       "    <tr>\n",
       "      <th>Lon</th>\n",
       "      <td>0.334685</td>\n",
       "      <td>-0.569523</td>\n",
       "      <td>-0.785022</td>\n",
       "      <td>1.000000</td>\n",
       "      <td>-0.047623</td>\n",
       "    </tr>\n",
       "    <tr>\n",
       "      <th>Timestamp</th>\n",
       "      <td>0.071506</td>\n",
       "      <td>-0.026960</td>\n",
       "      <td>0.055928</td>\n",
       "      <td>-0.047623</td>\n",
       "      <td>1.000000</td>\n",
       "    </tr>\n",
       "  </tbody>\n",
       "</table>\n",
       "</div>"
      ],
      "text/plain": [
       "                Mag  Depth km       Lat       Lon  Timestamp\n",
       "Mag        1.000000 -0.156322 -0.272058  0.334685   0.071506\n",
       "Depth km  -0.156322  1.000000  0.471849 -0.569523  -0.026960\n",
       "Lat       -0.272058  0.471849  1.000000 -0.785022   0.055928\n",
       "Lon        0.334685 -0.569523 -0.785022  1.000000  -0.047623\n",
       "Timestamp  0.071506 -0.026960  0.055928 -0.047623   1.000000"
      ]
     },
     "execution_count": 28,
     "metadata": {},
     "output_type": "execute_result"
    },
    {
     "data": {
      "image/png": "[encoded data removed]",
      "text/plain": [
       "<matplotlib.figure.Figure at 0x7f47f46eb978>"
      ]
     },
     "metadata": {},
     "output_type": "display_data"
    }
   ],
   "source": [
    "axs = pd.scatter_matrix(df, figsize=(12,12), diagonal='kde')\n",
    "df.corr()"
   ]
  },
  {
   "cell_type": "code",
   "execution_count": 29,
   "metadata": {
    "collapsed": false
   },
   "outputs": [],
   "source": [
    "df = pd.get_dummies(df, columns = ['Region'])"
   ]
  },
  {
   "cell_type": "code",
   "execution_count": 30,
   "metadata": {
    "collapsed": false
   },
   "outputs": [
    {
     "data": {
      "text/html": [
       "<div>\n",
       "<table border=\"1\" class=\"dataframe\">\n",
       "  <thead>\n",
       "    <tr style=\"text-align: right;\">\n",
       "      <th></th>\n",
       "      <th>Mag</th>\n",
       "      <th>Depth km</th>\n",
       "      <th>Lat</th>\n",
       "      <th>Lon</th>\n",
       "      <th>Timestamp</th>\n",
       "      <th>Region_AFGHANISTAN</th>\n",
       "      <th>Region_AFGHANISTAN-TAJIKISTAN BORD REG.</th>\n",
       "      <th>Region_ANDAMAN ISLANDS, INDIA</th>\n",
       "      <th>Region_ANDAMAN ISLANDS, INDIA REGION</th>\n",
       "      <th>Region_EASTERN KASHMIR</th>\n",
       "      <th>...</th>\n",
       "      <th>Region_NORTHERN INDIA</th>\n",
       "      <th>Region_NORTHWESTERN KASHMIR</th>\n",
       "      <th>Region_PAKISTAN</th>\n",
       "      <th>Region_QINGHAI, CHINA</th>\n",
       "      <th>Region_SOUTHEASTERN AFGHANISTAN</th>\n",
       "      <th>Region_SOUTHERN INDIA</th>\n",
       "      <th>Region_SOUTHERN XINJIANG, CHINA</th>\n",
       "      <th>Region_TAJIKISTAN</th>\n",
       "      <th>Region_WESTERN XIZANG-INDIA BORDER REG.</th>\n",
       "      <th>Region_XIZANG</th>\n",
       "    </tr>\n",
       "  </thead>\n",
       "  <tbody>\n",
       "    <tr>\n",
       "      <th>0</th>\n",
       "      <td>0.253455</td>\n",
       "      <td>-0.914457</td>\n",
       "      <td>-0.642393</td>\n",
       "      <td>0.668328</td>\n",
       "      <td>1.833269</td>\n",
       "      <td>0.0</td>\n",
       "      <td>0.0</td>\n",
       "      <td>0.0</td>\n",
       "      <td>0.0</td>\n",
       "      <td>0.0</td>\n",
       "      <td>...</td>\n",
       "      <td>0.0</td>\n",
       "      <td>0.0</td>\n",
       "      <td>0.0</td>\n",
       "      <td>0.0</td>\n",
       "      <td>0.0</td>\n",
       "      <td>0.0</td>\n",
       "      <td>0.0</td>\n",
       "      <td>0.0</td>\n",
       "      <td>0.0</td>\n",
       "      <td>0.0</td>\n",
       "    </tr>\n",
       "    <tr>\n",
       "      <th>1</th>\n",
       "      <td>0.494023</td>\n",
       "      <td>-1.134402</td>\n",
       "      <td>-0.620598</td>\n",
       "      <td>0.689347</td>\n",
       "      <td>1.832979</td>\n",
       "      <td>0.0</td>\n",
       "      <td>0.0</td>\n",
       "      <td>0.0</td>\n",
       "      <td>0.0</td>\n",
       "      <td>0.0</td>\n",
       "      <td>...</td>\n",
       "      <td>0.0</td>\n",
       "      <td>0.0</td>\n",
       "      <td>0.0</td>\n",
       "      <td>0.0</td>\n",
       "      <td>0.0</td>\n",
       "      <td>0.0</td>\n",
       "      <td>0.0</td>\n",
       "      <td>0.0</td>\n",
       "      <td>0.0</td>\n",
       "      <td>0.0</td>\n",
       "    </tr>\n",
       "    <tr>\n",
       "      <th>2</th>\n",
       "      <td>0.734591</td>\n",
       "      <td>-1.134402</td>\n",
       "      <td>-0.216660</td>\n",
       "      <td>0.428119</td>\n",
       "      <td>1.829495</td>\n",
       "      <td>0.0</td>\n",
       "      <td>0.0</td>\n",
       "      <td>0.0</td>\n",
       "      <td>0.0</td>\n",
       "      <td>0.0</td>\n",
       "      <td>...</td>\n",
       "      <td>0.0</td>\n",
       "      <td>0.0</td>\n",
       "      <td>0.0</td>\n",
       "      <td>0.0</td>\n",
       "      <td>0.0</td>\n",
       "      <td>0.0</td>\n",
       "      <td>0.0</td>\n",
       "      <td>0.0</td>\n",
       "      <td>0.0</td>\n",
       "      <td>1.0</td>\n",
       "    </tr>\n",
       "    <tr>\n",
       "      <th>3</th>\n",
       "      <td>-0.949383</td>\n",
       "      <td>0.181064</td>\n",
       "      <td>0.679850</td>\n",
       "      <td>-0.805955</td>\n",
       "      <td>1.824413</td>\n",
       "      <td>0.0</td>\n",
       "      <td>1.0</td>\n",
       "      <td>0.0</td>\n",
       "      <td>0.0</td>\n",
       "      <td>0.0</td>\n",
       "      <td>...</td>\n",
       "      <td>0.0</td>\n",
       "      <td>0.0</td>\n",
       "      <td>0.0</td>\n",
       "      <td>0.0</td>\n",
       "      <td>0.0</td>\n",
       "      <td>0.0</td>\n",
       "      <td>0.0</td>\n",
       "      <td>0.0</td>\n",
       "      <td>0.0</td>\n",
       "      <td>0.0</td>\n",
       "    </tr>\n",
       "    <tr>\n",
       "      <th>4</th>\n",
       "      <td>-0.468248</td>\n",
       "      <td>0.615350</td>\n",
       "      <td>0.650790</td>\n",
       "      <td>-0.929063</td>\n",
       "      <td>1.808172</td>\n",
       "      <td>0.0</td>\n",
       "      <td>0.0</td>\n",
       "      <td>0.0</td>\n",
       "      <td>0.0</td>\n",
       "      <td>0.0</td>\n",
       "      <td>...</td>\n",
       "      <td>0.0</td>\n",
       "      <td>0.0</td>\n",
       "      <td>0.0</td>\n",
       "      <td>0.0</td>\n",
       "      <td>0.0</td>\n",
       "      <td>0.0</td>\n",
       "      <td>0.0</td>\n",
       "      <td>0.0</td>\n",
       "      <td>0.0</td>\n",
       "      <td>0.0</td>\n",
       "    </tr>\n",
       "  </tbody>\n",
       "</table>\n",
       "<p>5 rows × 32 columns</p>\n",
       "</div>"
      ],
      "text/plain": [
       "        Mag  Depth km       Lat       Lon  Timestamp  Region_AFGHANISTAN  \\\n",
       "0  0.253455 -0.914457 -0.642393  0.668328   1.833269                 0.0   \n",
       "1  0.494023 -1.134402 -0.620598  0.689347   1.832979                 0.0   \n",
       "2  0.734591 -1.134402 -0.216660  0.428119   1.829495                 0.0   \n",
       "3 -0.949383  0.181064  0.679850 -0.805955   1.824413                 0.0   \n",
       "4 -0.468248  0.615350  0.650790 -0.929063   1.808172                 0.0   \n",
       "\n",
       "   Region_AFGHANISTAN-TAJIKISTAN BORD REG.  Region_ANDAMAN ISLANDS, INDIA  \\\n",
       "0                                      0.0                            0.0   \n",
       "1                                      0.0                            0.0   \n",
       "2                                      0.0                            0.0   \n",
       "3                                      1.0                            0.0   \n",
       "4                                      0.0                            0.0   \n",
       "\n",
       "   Region_ANDAMAN ISLANDS, INDIA REGION  Region_EASTERN KASHMIR  \\\n",
       "0                                   0.0                     0.0   \n",
       "1                                   0.0                     0.0   \n",
       "2                                   0.0                     0.0   \n",
       "3                                   0.0                     0.0   \n",
       "4                                   0.0                     0.0   \n",
       "\n",
       "       ...        Region_NORTHERN INDIA  Region_NORTHWESTERN KASHMIR  \\\n",
       "0      ...                          0.0                          0.0   \n",
       "1      ...                          0.0                          0.0   \n",
       "2      ...                          0.0                          0.0   \n",
       "3      ...                          0.0                          0.0   \n",
       "4      ...                          0.0                          0.0   \n",
       "\n",
       "   Region_PAKISTAN  Region_QINGHAI, CHINA  Region_SOUTHEASTERN AFGHANISTAN  \\\n",
       "0              0.0                    0.0                              0.0   \n",
       "1              0.0                    0.0                              0.0   \n",
       "2              0.0                    0.0                              0.0   \n",
       "3              0.0                    0.0                              0.0   \n",
       "4              0.0                    0.0                              0.0   \n",
       "\n",
       "   Region_SOUTHERN INDIA  Region_SOUTHERN XINJIANG, CHINA  Region_TAJIKISTAN  \\\n",
       "0                    0.0                              0.0                0.0   \n",
       "1                    0.0                              0.0                0.0   \n",
       "2                    0.0                              0.0                0.0   \n",
       "3                    0.0                              0.0                0.0   \n",
       "4                    0.0                              0.0                0.0   \n",
       "\n",
       "   Region_WESTERN XIZANG-INDIA BORDER REG.  Region_XIZANG  \n",
       "0                                      0.0            0.0  \n",
       "1                                      0.0            0.0  \n",
       "2                                      0.0            1.0  \n",
       "3                                      0.0            0.0  \n",
       "4                                      0.0            0.0  \n",
       "\n",
       "[5 rows x 32 columns]"
      ]
     },
     "execution_count": 30,
     "metadata": {},
     "output_type": "execute_result"
    }
   ],
   "source": [
    "df.head()"
   ]
  },
  {
   "cell_type": "code",
   "execution_count": 33,
   "metadata": {
    "collapsed": false
   },
   "outputs": [
    {
     "data": {
      "text/plain": [
       "DataFrameMapper(default=False, df_out=True,\n",
       "        features=[('Region', None), (['Mag'], StandardScaler(copy=True, with_mean=True, with_std=True)), (['Depth km'], StandardScaler(copy=True, with_mean=True, with_std=True)), (['Lat'], StandardScaler(copy=True, with_mean=True, with_std=True)), (['Lon'], StandardScaler(copy=True, with_mean=True, with_std=True)), (['Timestamp'], StandardScaler(copy=True, with_mean=True, with_std=True))],\n",
       "        sparse=False)"
      ]
     },
     "execution_count": 33,
     "metadata": {},
     "output_type": "execute_result"
    }
   ],
   "source": [
    "pipe = sklearn.pipeline.make_pipeline(mapper, sklearn.svm.SVC())"
   ]
  },
  {
   "cell_type": "code",
   "execution_count": 44,
   "metadata": {
    "collapsed": false
   },
   "outputs": [],
   "source": [
    "X = df.copy()\n",
    "del X['Mag']\n",
    "y = df.Mag"
   ]
  },
  {
   "cell_type": "code",
   "execution_count": 45,
   "metadata": {
    "collapsed": true
   },
   "outputs": [],
   "source": [
    "from sklearn.model_selection import train_test_split\n",
    "X_train, X_test, y_train, y_test = train_test_split(\n",
    "    X, y, test_size=0.33, random_state=42)"
   ]
  },
  {
   "cell_type": "code",
   "execution_count": 46,
   "metadata": {
    "collapsed": false
   },
   "outputs": [
    {
     "data": {
      "text/plain": [
       "SVR(C=1.0, cache_size=200, coef0=0.0, degree=3, epsilon=0.1, gamma='auto',\n",
       "  kernel='rbf', max_iter=-1, shrinking=True, tol=0.001, verbose=False)"
      ]
     },
     "execution_count": 46,
     "metadata": {},
     "output_type": "execute_result"
    }
   ],
   "source": [
    "svm = sklearn.svm.SVR()\n",
    "svm.fit(X_train, y_train)"
   ]
  },
  {
   "cell_type": "code",
   "execution_count": 47,
   "metadata": {
    "collapsed": false
   },
   "outputs": [
    {
     "data": {
      "text/plain": [
       "0.77309121841762962"
      ]
     },
     "execution_count": 47,
     "metadata": {},
     "output_type": "execute_result"
    }
   ],
   "source": [
    "from sklearn.metrics import mean_squared_error\n",
    "mean_squared_error(svm.predict(X_test), y_test)"
   ]
  },
  {
   "cell_type": "code",
   "execution_count": 49,
   "metadata": {
    "collapsed": false
   },
   "outputs": [
    {
     "name": "stdout",
     "output_type": "stream",
     "text": [
      "0.35713999774 0.253455226966\n",
      "0.421383805942 0.975158246123\n",
      "-0.220951789864 -0.468247792191\n",
      "-0.602658426847 -0.468247792191\n",
      "-0.37181167843 -0.227680119139\n",
      "-0.00432127218464 -0.468247792191\n",
      "-0.448162316469 -0.227680119139\n",
      "0.234566181918 0.0128875539135\n",
      "0.3191564021 -0.468247792191\n",
      "0.499050369988 -0.227680119139\n",
      "-0.364357151629 0.0128875539135\n",
      "-0.103539525311 -0.949383138296\n",
      "-0.33122740395 -0.227680119139\n",
      "-0.180678323529 -1.18995081135\n",
      "0.3824377921 -0.708815465243\n",
      "-0.332854845865 -0.949383138296\n",
      "0.0337891078309 -0.708815465243\n",
      "-0.360605282312 -0.227680119139\n",
      "0.0130220495023 0.494022900018\n",
      "0.320326315499 -0.468247792191\n",
      "0.18308362055 -0.227680119139\n",
      "-0.249224303341 -0.708815465243\n",
      "-0.483131864386 0.253455226966\n",
      "-0.407345934731 -0.949383138296\n",
      "0.319711028622 -0.468247792191\n",
      "0.355204111974 0.494022900018\n",
      "-0.287938490515 1.93742893833\n",
      "0.405537192917 -0.708815465243\n",
      "0.389914273883 -0.468247792191\n",
      "-0.407140095709 -0.708815465243\n",
      "-0.279830797664 0.253455226966\n",
      "0.0149115628132 -0.708815465243\n",
      "0.126413034848 2.17799661138\n",
      "-0.584900896344 -1.18995081135\n",
      "0.319729787069 0.0128875539135\n",
      "0.0730998858144 -0.468247792191\n",
      "-0.0236641142946 -0.468247792191\n",
      "0.09173241832 -0.708815465243\n",
      "0.0320518353191 -0.708815465243\n",
      "-0.19719446327 0.253455226966\n",
      "-0.0560372331702 -0.227680119139\n",
      "-0.689399016675 -0.468247792191\n",
      "0.111685067067 5.78651170717\n",
      "0.363709999375 0.253455226966\n",
      "-0.255153630989 -0.949383138296\n",
      "-0.569906277232 -0.949383138296\n",
      "-0.477432366634 -1.18995081135\n",
      "-0.0237836731665 -0.708815465243\n",
      "-0.432280868492 -0.708815465243\n",
      "-0.0321782591721 -0.708815465243\n",
      "0.54113572826 -0.227680119139\n",
      "0.007058985979 -0.468247792191\n",
      "0.0197923240387 -1.18995081135\n",
      "0.34530411953 0.494022900018\n",
      "-0.0849775457483 0.253455226966\n",
      "0.302993478635 0.253455226966\n",
      "0.529778529485 -0.708815465243\n",
      "-0.463335402656 -0.708815465243\n",
      "-0.294411750009 1.21572591918\n",
      "0.402881073573 1.21572591918\n",
      "0.330938474724 0.494022900018\n",
      "-0.35301285014 0.253455226966\n",
      "-0.205407017174 -0.949383138296\n",
      "-0.31510552591 -0.468247792191\n",
      "0.360983020661 0.0128875539135\n",
      "-0.00949775273622 -0.468247792191\n",
      "-0.221854673288 0.0128875539135\n",
      "0.394680234596 1.45629359223\n",
      "0.201394246264 1.45629359223\n",
      "-0.562689457559 -0.468247792191\n",
      "-0.388705457768 0.0128875539135\n",
      "-0.324010226271 -0.708815465243\n",
      "-0.675662904287 -0.949383138296\n",
      "-0.233148807825 -0.227680119139\n",
      "0.324561750109 0.494022900018\n",
      "-0.289125040479 -0.468247792191\n",
      "-0.158240734011 0.494022900018\n",
      "0.255604121216 0.253455226966\n",
      "-0.29555843849 -0.708815465243\n",
      "-0.213320597012 -0.468247792191\n",
      "-0.187986755869 -0.468247792191\n",
      "-0.329114903494 0.0128875539135\n",
      "0.236348516617 -0.227680119139\n",
      "-0.431597234853 -0.708815465243\n",
      "-0.19384899279 0.253455226966\n",
      "0.53232493512 1.69686126528\n",
      "0.277569756269 0.253455226966\n",
      "-0.00590036716651 0.0128875539135\n",
      "0.116840593567 -0.227680119139\n",
      "-0.20649790019 -0.227680119139\n",
      "-0.0680842029498 -0.468247792191\n",
      "0.505067681011 0.494022900018\n",
      "-0.351325624333 -0.468247792191\n"
     ]
    }
   ],
   "source": [
    "for a,b in zip(svm.predict(X_test), y_test):\n",
    "    print(a,b)"
   ]
  },
  {
   "cell_type": "code",
   "execution_count": null,
   "metadata": {
    "collapsed": true
   },
   "outputs": [],
   "source": []
  }
 ],
 "metadata": {
  "kernelspec": {
   "display_name": "Anaconda",
   "language": "python",
   "name": "python3"
  },
  "language_info": {
   "codemirror_mode": {
    "name": "ipython",
    "version": 3
   },
   "file_extension": ".py",
   "mimetype": "text/x-python",
   "name": "python",
   "nbconvert_exporter": "python",
   "pygments_lexer": "ipython3",
   "version": "3.5.3"
  }
 },
 "nbformat": 4,
 "nbformat_minor": 0
}
