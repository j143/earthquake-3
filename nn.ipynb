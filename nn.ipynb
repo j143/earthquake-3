{
 "cells": [
  {
   "cell_type": "code",
   "execution_count": 1,
   "metadata": {
    "autoscroll": "json-false",
    "collapsed": false,
    "ein.tags": [
     "worksheet-0"
    ],
    "slideshow": {
     "slide_type": "-"
    }
   },
   "outputs": [
    {
     "name": "stderr",
     "output_type": "stream",
     "text": [
      "/home/nikhil/.conda/envs/sarcoma/lib/python3.5/site-packages/sklearn/cross_validation.py:44: DeprecationWarning: This module was deprecated in version 0.18 in favor of the model_selection module into which all the refactored classes and functions are moved. Also note that the interface of the new CV iterators are different from that of this module. This module will be removed in 0.20.\n",
      "  \"This module will be removed in 0.20.\", DeprecationWarning)\n"
     ]
    }
   ],
   "source": [
    "from sknn.mlp import Regressor\n",
    "import matplotlib.pyplot as plt\n",
    "import numpy as np\n",
    "import pandas as pd\n",
    "from sklearn.model_selection import GridSearchCV\n",
    "import matplotlib\n",
    "import sklearn\n",
    "from sknn.mlp import Regressor, Layer\n",
    "from sklearn_pandas import DataFrameMapper\n",
    "matplotlib.style.use('ggplot')\n",
    "%matplotlib inline"
   ]
  },
  {
   "cell_type": "code",
   "execution_count": 109,
   "metadata": {
    "autoscroll": "json-false",
    "collapsed": false,
    "ein.tags": [
     "worksheet-0"
    ],
    "slideshow": {
     "slide_type": "-"
    }
   },
   "outputs": [],
   "source": [
    "df = pd.read_csv('india_surroundings_1mar2016 _28_feb_2017.csv')\n",
    "del df['IRIS ID'], df['Year'], df['Month'], df['Day'], df['Time UTC'], df['Region']\n",
    "df = df.iloc[::-1]\n",
    "#df = pd.get_dummies(df)"
   ]
  },
  {
   "cell_type": "code",
   "execution_count": 110,
   "metadata": {
    "autoscroll": "json-false",
    "collapsed": false,
    "ein.tags": [
     "worksheet-0"
    ],
    "slideshow": {
     "slide_type": "-"
    }
   },
   "outputs": [
    {
     "data": {
      "text/plain": [
       "     Mag    Lat    Lon  Depth km   Timestamp\n",
       "279  4.6  29.75  69.93      10.0  1456900511\n",
       "278  4.0  35.53  70.24      89.5  1457132148\n",
       "277  4.2  36.49  71.10     101.3  1457232360\n",
       "276  4.6  20.98  95.02     101.0  1457320438\n",
       "275  4.5  22.76  93.94      50.0  1457353381"
      ]
     },
     "execution_count": 110,
     "metadata": {},
     "output_type": "execute_result"
    }
   ],
   "source": [
    "train_test_ratio = .7\n",
    "train_size = int(df.shape[0] * train_test_ratio)\n",
    "train_data = df.iloc[:train_size]\n",
    "test_data = df.iloc[train_size:]\n",
    "df.head()"
   ]
  },
  {
   "cell_type": "code",
   "execution_count": 111,
   "metadata": {
    "autoscroll": "json-false",
    "collapsed": false,
    "ein.tags": [
     "worksheet-0"
    ],
    "slideshow": {
     "slide_type": "-"
    }
   },
   "outputs": [
    {
     "name": "stderr",
     "output_type": "stream",
     "text": [
      "/home/nikhil/.conda/envs/sarcoma/lib/python3.5/site-packages/sklearn/utils/validation.py:429: DataConversionWarning: Data with input dtype int64 was converted to float64 by StandardScaler.\n",
      "  warnings.warn(msg, _DataConversionWarning)\n"
     ]
    }
   ],
   "source": [
    "mapper = DataFrameMapper([\n",
    "       # (['Region'], None),\n",
    "        (['Mag'],sklearn.preprocessing.StandardScaler()),\n",
    "        (['Lat'],sklearn.preprocessing.StandardScaler()),\n",
    "        (['Lon'],sklearn.preprocessing.StandardScaler()),\n",
    "        (['Depth km'],sklearn.preprocessing.StandardScaler()),\n",
    "        (['Timestamp'], sklearn.preprocessing.StandardScaler()) \n",
    "    ],default = None)\n",
    "train_data = mapper.fit_transform(train_data)\n",
    "#train_data[['Mag','Lat','Lon','Timestamp','Depth km']] = train_data[['Mag','Lat','Lon','Timestamp','Depth km']].astype(float)\n",
    "test_data = mapper.transform(test_data)\n",
    "#test_data[['Mag','Lat','Lon','Timestamp','Depth km']] = test_data[['Mag','Lat','Lon','Timestamp','Depth km']].astype(float)\n"
   ]
  },
  {
   "cell_type": "code",
   "execution_count": 112,
   "metadata": {
    "autoscroll": "json-false",
    "collapsed": false,
    "ein.tags": [
     "worksheet-0"
    ],
    "slideshow": {
     "slide_type": "-"
    }
   },
   "outputs": [
    {
     "name": "stdout",
     "output_type": "stream",
     "text": [
      "(182, 70) (182, 5)\n",
      "(70, 70) (70, 5)\n"
     ]
    }
   ],
   "source": [
    "past = 14  # number of past earthquakes to consider\n",
    "def getXandY(data):\n",
    "    X, Y = [], []\n",
    "    for i in range(data.shape[0]-past):\n",
    "        X += [data[i:i+past].flatten()]\n",
    "        Y += [data[i+past]]\n",
    "    return X, Y\n",
    "train_X, train_Y = getXandY(train_data)\n",
    "test_X, test_Y = getXandY(test_data)\n",
    "train_X, train_Y, test_X, test_Y = np.array(train_X), np.array(train_Y), np.array(test_X), np.array(test_Y)\n",
    "print(np.shape(train_X), np.shape(train_Y))\n",
    "print(np.shape(test_X), np.shape(test_Y))"
   ]
  },
  {
   "cell_type": "code",
   "execution_count": 113,
   "metadata": {
    "autoscroll": "json-false",
    "collapsed": false,
    "ein.tags": [
     "worksheet-0"
    ],
    "slideshow": {
     "slide_type": "-"
    }
   },
   "outputs": [],
   "source": [
    "nn = Regressor(\n",
    "    layers=[\n",
    "         Layer(\"Tanh\",units= 60),\n",
    "        Layer(\"Tanh\",units = 60),\n",
    "        Layer(\"Linear\")],\n",
    "    learning_rate=0.001,\n",
    "    dropout_rate=.3,\n",
    "    learning_rule=u'rmsprop',\n",
    "    n_iter= 1000) "
   ]
  },
  {
   "cell_type": "code",
   "execution_count": 118,
   "metadata": {
    "autoscroll": "json-false",
    "collapsed": false,
    "ein.tags": [
     "worksheet-0"
    ],
    "slideshow": {
     "slide_type": "-"
    }
   },
   "outputs": [
    {
     "name": "stdout",
     "output_type": "stream",
     "text": [
      "{'hidden1__units': 60, 'learning_rule': 'rmsprop', 'hidden0__units': 20, 'hidden1__type': 'Tanh', 'hidden0__type': 'Tanh'}\n"
     ]
    }
   ],
   "source": [
    "gs = GridSearchCV(nn, param_grid={\n",
    "    'hidden0__units': [20, 40, 60, 80],\n",
    "    'hidden0__type': [\"Sigmoid\", \"Rectifier\", \"Tanh\"],\n",
    "    'hidden1__units': [20, 40, 60],\n",
    "    'hidden1__type': [\"Sigmoid\", \"Rectifier\", \"Tanh\"],\n",
    "    'learning_rule': ['rmsprop','adam']\n",
    "}) \n",
    "import warnings \n",
    "with warnings.catch_warnings():\n",
    "    warnings.simplefilter(\"ignore\") \n",
    "    gs.fit(train_X, train_Y)\n",
    "print(gs.best_params_)"
   ]
  },
  {
   "cell_type": "code",
   "execution_count": 121,
   "metadata": {
    "autoscroll": "json-false",
    "collapsed": false,
    "ein.tags": [
     "worksheet-0"
    ],
    "slideshow": {
     "slide_type": "-"
    }
   },
   "outputs": [],
   "source": [
    "bp = gs.best_params_\n",
    "errors = []\n",
    "def store_stats(avg_valid_error, avg_train_error, **_):\n",
    "    errors.append(avg_train_error) \n",
    "\n",
    "nn = Regressor(\n",
    "    layers=[\n",
    "        Layer(bp['hidden0__type'],units= bp['hidden0__units']),\n",
    "        Layer(bp['hidden1__type'],units = bp['hidden1__units']),\n",
    "        Layer(\"Linear\")],\n",
    "    callback={'on_epoch_finish': store_stats},\n",
    "    learning_rate=0.001,\n",
    "    dropout_rate=.3,\n",
    "    learning_rule=bp['learning_rule'],\n",
    "    n_iter= 100) "
   ]
  },
  {
   "cell_type": "code",
   "execution_count": 122,
   "metadata": {
    "autoscroll": "json-false",
    "collapsed": false,
    "ein.tags": [
     "worksheet-0"
    ],
    "slideshow": {
     "slide_type": "-"
    }
   },
   "outputs": [
    {
     "data": {
      "text/plain": [
       "-0.47056545796715354"
      ]
     },
     "execution_count": 122,
     "metadata": {},
     "output_type": "execute_result"
    }
   ],
   "source": [
    "nn.fit(train_X, train_Y) \n",
    "# see what is giving best score here\n",
    "nn.score(test_X, test_Y)"
   ]
  },
  {
   "cell_type": "code",
   "execution_count": 123,
   "metadata": {
    "autoscroll": "json-false",
    "collapsed": false,
    "ein.tags": [
     "worksheet-0"
    ],
    "slideshow": {
     "slide_type": "-"
    }
   },
   "outputs": [
    {
     "data": {
      "image/png": "[encoded data removed]",
      "text/plain": [
       "<matplotlib.figure.Figure at 0x7f36d11b7f60>"
      ]
     },
     "metadata": {},
     "output_type": "display_data"
    }
   ],
   "source": [
    "plt.plot(errors,label='Average train error')\n",
    "plt.ylabel('mean squared error')\n",
    "plt.xlabel('epochs')\n",
    "plt.legend()\n",
    "plt.savefig(\"ffnm1.eps\", format=\"eps\") \n",
    "plt.show()"
   ]
  },
  {
   "cell_type": "code",
   "execution_count": 124,
   "metadata": {
    "autoscroll": "json-false",
    "collapsed": false,
    "ein.tags": [
     "worksheet-0"
    ],
    "slideshow": {
     "slide_type": "-"
    }
   },
   "outputs": [
    {
     "data": {
      "image/png": "[encoded data removed]",
      "text/plain": [
       "<matplotlib.figure.Figure at 0x7f36dad40f60>"
      ]
     },
     "metadata": {},
     "output_type": "display_data"
    },
    {
     "name": "stdout",
     "output_type": "stream",
     "text": [
      "total r2 score -0.470565457967\n",
      "r2 scores for individual variables {'Lat': -0.014999999999999999, 'Lon': -0.071999999999999995, 'Timestamp': -7.0069999999999997, 'Depth km': -0.001, 'Mag': -0.0040000000000000001}\n"
     ]
    },
    {
     "name": "stderr",
     "output_type": "stream",
     "text": [
      "/home/nikhil/.conda/envs/sarcoma/lib/python3.5/site-packages/sklearn/metrics/regression.py:482: DeprecationWarning: Default 'multioutput' behavior now corresponds to 'variance_weighted' value which is deprecated since 0.17, it will be changed to 'uniform_average' starting from 0.19.\n",
      "  DeprecationWarning)\n"
     ]
    }
   ],
   "source": [
    "test_outputs = nn.predict(test_X)\n",
    "test_targets = test_Y\n",
    "test_targets, test_outputs = np.reshape(test_targets,(-1,5)), np.reshape(test_outputs,(-1,5)) \n",
    "from sklearn.metrics import r2_score\n",
    "total_error = r2_score(test_targets, test_outputs) \n",
    "print(\"total r2 score\", total_error)\n",
    "plt.axhline([total_error],0,1,label='overall score')\n",
    "indv_error_dict = {col:np.round(r2_score(test_targets[:,i], test_outputs[:,i]),3) for i, col in enumerate(df.columns)}\n",
    "print(\"r2 scores for individual variables\", indv_error_dict)\n",
    "plt.bar(range(len(indv_error_dict)), indv_error_dict.values())\n",
    "plt.xticks(range(len(indv_error_dict)), indv_error_dict.keys())\n",
    "plt.ylabel('r2 score')\n",
    "plt.xlabel('Predicted Variable')\n",
    "plt.legend()\n",
    "plt.savefig(\"ffnm2.eps\", format=\"eps\")\n",
    "plt.show()"
   ]
  },
  {
   "cell_type": "code",
   "execution_count": 0,
   "metadata": {
    "autoscroll": "json-false",
    "collapsed": false,
    "ein.tags": [
     "worksheet-0"
    ],
    "slideshow": {
     "slide_type": "-"
    }
   },
   "outputs": [],
   "source": []
  }
 ],
 "metadata": {
  "kernelspec": {
   "display_name": "sarcoma",
   "name": "sarcoma"
  },
  "language_info": {
   "codemirror_mode": {
    "name": "ipython",
    "version": 3
   },
   "file_extension": ".py",
   "mimetype": "text/x-python",
   "name": "python",
   "nbconvert_exporter": "python",
   "pygments_lexer": "ipython3",
   "version": "3.5.3"
  },
  "name": "nn.ipynb"
 },
 "nbformat": 4,
 "nbformat_minor": 0
}
