{
 "cells": [
  {
   "cell_type": "code",
   "execution_count": 12,
   "metadata": {
    "autoscroll": "json-false",
    "collapsed": false,
    "ein.tags": [
     "worksheet-0"
    ],
    "slideshow": {
     "slide_type": "-"
    }
   },
   "outputs": [],
   "source": [
    "from sknn.mlp import Regressor\n",
    "import matplotlib.pyplot as plt\n",
    "import numpy as np\n",
    "import pandas as pd\n",
    "import matplotlib\n",
    "import sklearn\n",
    "from sklearn_pandas import DataFrameMapper\n",
    "matplotlib.style.use('ggplot')\n",
    "%matplotlib inline"
   ]
  },
  {
   "cell_type": "code",
   "execution_count": 13,
   "metadata": {
    "autoscroll": "json-false",
    "collapsed": false,
    "ein.tags": [
     "worksheet-0"
    ],
    "slideshow": {
     "slide_type": "-"
    }
   },
   "outputs": [],
   "source": [
    "df = pd.read_csv('india_surroundings_1mar2016 _28_feb_2017.csv')\n",
    "del df['IRIS ID'], df['Year'], df['Month'], df['Day'], df['Time UTC']\n",
    "df = df.iloc[::-1]\n",
    "df = pd.get_dummies(df)"
   ]
  },
  {
   "cell_type": "code",
   "execution_count": 14,
   "metadata": {
    "autoscroll": "json-false",
    "collapsed": false,
    "ein.tags": [
     "worksheet-0"
    ],
    "slideshow": {
     "slide_type": "-"
    }
   },
   "outputs": [
    {
     "data": {
      "text/html": [
       "<div>\n",
       "<table border=\"1\" class=\"dataframe\">\n",
       "  <thead>\n",
       "    <tr style=\"text-align: right;\">\n",
       "      <th></th>\n",
       "      <th>Mag</th>\n",
       "      <th>Lat</th>\n",
       "      <th>Lon</th>\n",
       "      <th>Depth km</th>\n",
       "      <th>Timestamp</th>\n",
       "      <th>Region_AFGHANISTAN</th>\n",
       "      <th>Region_AFGHANISTAN-TAJIKISTAN BORD REG.</th>\n",
       "      <th>Region_ANDAMAN ISLANDS, INDIA</th>\n",
       "      <th>Region_ANDAMAN ISLANDS, INDIA REGION</th>\n",
       "      <th>Region_EASTERN KASHMIR</th>\n",
       "      <th>...</th>\n",
       "      <th>Region_NORTHERN INDIA</th>\n",
       "      <th>Region_NORTHWESTERN KASHMIR</th>\n",
       "      <th>Region_PAKISTAN</th>\n",
       "      <th>Region_QINGHAI, CHINA</th>\n",
       "      <th>Region_SOUTHEASTERN AFGHANISTAN</th>\n",
       "      <th>Region_SOUTHERN INDIA</th>\n",
       "      <th>Region_SOUTHERN XINJIANG, CHINA</th>\n",
       "      <th>Region_TAJIKISTAN</th>\n",
       "      <th>Region_WESTERN XIZANG-INDIA BORDER REG.</th>\n",
       "      <th>Region_XIZANG</th>\n",
       "    </tr>\n",
       "  </thead>\n",
       "  <tbody>\n",
       "    <tr>\n",
       "      <th>279</th>\n",
       "      <td>4.6</td>\n",
       "      <td>29.75</td>\n",
       "      <td>69.93</td>\n",
       "      <td>10.0</td>\n",
       "      <td>1456900511</td>\n",
       "      <td>0</td>\n",
       "      <td>0</td>\n",
       "      <td>0</td>\n",
       "      <td>0</td>\n",
       "      <td>0</td>\n",
       "      <td>...</td>\n",
       "      <td>0</td>\n",
       "      <td>0</td>\n",
       "      <td>1</td>\n",
       "      <td>0</td>\n",
       "      <td>0</td>\n",
       "      <td>0</td>\n",
       "      <td>0</td>\n",
       "      <td>0</td>\n",
       "      <td>0</td>\n",
       "      <td>0</td>\n",
       "    </tr>\n",
       "    <tr>\n",
       "      <th>278</th>\n",
       "      <td>4.0</td>\n",
       "      <td>35.53</td>\n",
       "      <td>70.24</td>\n",
       "      <td>89.5</td>\n",
       "      <td>1457132148</td>\n",
       "      <td>0</td>\n",
       "      <td>0</td>\n",
       "      <td>0</td>\n",
       "      <td>0</td>\n",
       "      <td>0</td>\n",
       "      <td>...</td>\n",
       "      <td>0</td>\n",
       "      <td>0</td>\n",
       "      <td>0</td>\n",
       "      <td>0</td>\n",
       "      <td>0</td>\n",
       "      <td>0</td>\n",
       "      <td>0</td>\n",
       "      <td>0</td>\n",
       "      <td>0</td>\n",
       "      <td>0</td>\n",
       "    </tr>\n",
       "    <tr>\n",
       "      <th>277</th>\n",
       "      <td>4.2</td>\n",
       "      <td>36.49</td>\n",
       "      <td>71.10</td>\n",
       "      <td>101.3</td>\n",
       "      <td>1457232360</td>\n",
       "      <td>0</td>\n",
       "      <td>1</td>\n",
       "      <td>0</td>\n",
       "      <td>0</td>\n",
       "      <td>0</td>\n",
       "      <td>...</td>\n",
       "      <td>0</td>\n",
       "      <td>0</td>\n",
       "      <td>0</td>\n",
       "      <td>0</td>\n",
       "      <td>0</td>\n",
       "      <td>0</td>\n",
       "      <td>0</td>\n",
       "      <td>0</td>\n",
       "      <td>0</td>\n",
       "      <td>0</td>\n",
       "    </tr>\n",
       "    <tr>\n",
       "      <th>276</th>\n",
       "      <td>4.6</td>\n",
       "      <td>20.98</td>\n",
       "      <td>95.02</td>\n",
       "      <td>101.0</td>\n",
       "      <td>1457320438</td>\n",
       "      <td>0</td>\n",
       "      <td>0</td>\n",
       "      <td>0</td>\n",
       "      <td>0</td>\n",
       "      <td>0</td>\n",
       "      <td>...</td>\n",
       "      <td>0</td>\n",
       "      <td>0</td>\n",
       "      <td>0</td>\n",
       "      <td>0</td>\n",
       "      <td>0</td>\n",
       "      <td>0</td>\n",
       "      <td>0</td>\n",
       "      <td>0</td>\n",
       "      <td>0</td>\n",
       "      <td>0</td>\n",
       "    </tr>\n",
       "    <tr>\n",
       "      <th>275</th>\n",
       "      <td>4.5</td>\n",
       "      <td>22.76</td>\n",
       "      <td>93.94</td>\n",
       "      <td>50.0</td>\n",
       "      <td>1457353381</td>\n",
       "      <td>0</td>\n",
       "      <td>0</td>\n",
       "      <td>0</td>\n",
       "      <td>0</td>\n",
       "      <td>0</td>\n",
       "      <td>...</td>\n",
       "      <td>0</td>\n",
       "      <td>0</td>\n",
       "      <td>0</td>\n",
       "      <td>0</td>\n",
       "      <td>0</td>\n",
       "      <td>0</td>\n",
       "      <td>0</td>\n",
       "      <td>0</td>\n",
       "      <td>0</td>\n",
       "      <td>0</td>\n",
       "    </tr>\n",
       "  </tbody>\n",
       "</table>\n",
       "<p>5 rows × 32 columns</p>\n",
       "</div>"
      ],
      "text/plain": [
       "     Mag    Lat    Lon  Depth km   Timestamp  Region_AFGHANISTAN  \\\n",
       "279  4.6  29.75  69.93      10.0  1456900511                   0   \n",
       "278  4.0  35.53  70.24      89.5  1457132148                   0   \n",
       "277  4.2  36.49  71.10     101.3  1457232360                   0   \n",
       "276  4.6  20.98  95.02     101.0  1457320438                   0   \n",
       "275  4.5  22.76  93.94      50.0  1457353381                   0   \n",
       "\n",
       "     Region_AFGHANISTAN-TAJIKISTAN BORD REG.  Region_ANDAMAN ISLANDS, INDIA  \\\n",
       "279                                        0                              0   \n",
       "278                                        0                              0   \n",
       "277                                        1                              0   \n",
       "276                                        0                              0   \n",
       "275                                        0                              0   \n",
       "\n",
       "     Region_ANDAMAN ISLANDS, INDIA REGION  Region_EASTERN KASHMIR  \\\n",
       "279                                     0                       0   \n",
       "278                                     0                       0   \n",
       "277                                     0                       0   \n",
       "276                                     0                       0   \n",
       "275                                     0                       0   \n",
       "\n",
       "         ...        Region_NORTHERN INDIA  Region_NORTHWESTERN KASHMIR  \\\n",
       "279      ...                            0                            0   \n",
       "278      ...                            0                            0   \n",
       "277      ...                            0                            0   \n",
       "276      ...                            0                            0   \n",
       "275      ...                            0                            0   \n",
       "\n",
       "     Region_PAKISTAN  Region_QINGHAI, CHINA  Region_SOUTHEASTERN AFGHANISTAN  \\\n",
       "279                1                      0                                0   \n",
       "278                0                      0                                0   \n",
       "277                0                      0                                0   \n",
       "276                0                      0                                0   \n",
       "275                0                      0                                0   \n",
       "\n",
       "     Region_SOUTHERN INDIA  Region_SOUTHERN XINJIANG, CHINA  \\\n",
       "279                      0                                0   \n",
       "278                      0                                0   \n",
       "277                      0                                0   \n",
       "276                      0                                0   \n",
       "275                      0                                0   \n",
       "\n",
       "     Region_TAJIKISTAN  Region_WESTERN XIZANG-INDIA BORDER REG.  Region_XIZANG  \n",
       "279                  0                                        0              0  \n",
       "278                  0                                        0              0  \n",
       "277                  0                                        0              0  \n",
       "276                  0                                        0              0  \n",
       "275                  0                                        0              0  \n",
       "\n",
       "[5 rows x 32 columns]"
      ]
     },
     "execution_count": 14,
     "metadata": {},
     "output_type": "execute_result"
    }
   ],
   "source": [
    "train_test_ratio = .7\n",
    "train_size = int(df.shape[0] * train_test_ratio)\n",
    "train_data = df.iloc[:train_size]\n",
    "test_data = df.iloc[train_size:]\n",
    "df.head()"
   ]
  },
  {
   "cell_type": "code",
   "execution_count": 15,
   "metadata": {
    "autoscroll": "json-false",
    "collapsed": false,
    "ein.tags": [
     "worksheet-0"
    ],
    "slideshow": {
     "slide_type": "-"
    }
   },
   "outputs": [
    {
     "name": "stderr",
     "output_type": "stream",
     "text": [
      "/home/nikhil/.conda/envs/sarcoma/lib/python3.5/site-packages/sklearn/utils/validation.py:429: DataConversionWarning: Data with input dtype int64 was converted to float64 by StandardScaler.\n",
      "  warnings.warn(msg, _DataConversionWarning)\n"
     ]
    }
   ],
   "source": [
    "mapper = DataFrameMapper([\n",
    "       # (['Region'], None),\n",
    "        (['Mag'],sklearn.preprocessing.StandardScaler()),\n",
    "        (['Depth km'],sklearn.preprocessing.StandardScaler()),\n",
    "        (['Lat'],sklearn.preprocessing.StandardScaler()),\n",
    "        (['Lon'],sklearn.preprocessing.StandardScaler()),\n",
    "        (['Timestamp'], sklearn.preprocessing.StandardScaler()) \n",
    "    ],default = None)\n",
    "train_data = mapper.fit_transform(train_data)\n",
    "#train_data[['Mag','Lat','Lon','Timestamp','Depth km']] = train_data[['Mag','Lat','Lon','Timestamp','Depth km']].astype(float)\n",
    "test_data = mapper.transform(test_data)\n",
    "#test_data[['Mag','Lat','Lon','Timestamp','Depth km']] = test_data[['Mag','Lat','Lon','Timestamp','Depth km']].astype(float)\n"
   ]
  },
  {
   "cell_type": "code",
   "execution_count": 22,
   "metadata": {
    "autoscroll": "json-false",
    "collapsed": false,
    "ein.tags": [
     "worksheet-0"
    ],
    "scrolled": false,
    "slideshow": {
     "slide_type": "-"
    }
   },
   "outputs": [],
   "source": [
    "past = 14  # number of past earthquakes to consider \n",
    "def getXandY(data):\n",
    "    X, Y = [], []\n",
    "    for i in range(data.shape[0]-past):\n",
    "        X += [data[i:i+past].flatten()]\n",
    "        Y += [data[i+past]]\n",
    "    return X, Y\n",
    "train_X, train_Y = getXandY(train_data)\n",
    "test_X, test_Y = getXandY(test_data)"
   ]
  },
  {
   "cell_type": "code",
   "execution_count": 29,
   "metadata": {
    "collapsed": false
   },
   "outputs": [
    {
     "name": "stdout",
     "output_type": "stream",
     "text": [
      "(182, 448) (182, 32)\n",
      "(70, 448) (70, 32)\n"
     ]
    }
   ],
   "source": [
    "print(np.shape(train_X), np.shape(train_Y))\n",
    "print(np.shape(test_X), np.shape(test_Y))"
   ]
  },
  {
   "cell_type": "code",
   "execution_count": 27,
   "metadata": {
    "collapsed": false
   },
   "outputs": [
    {
     "data": {
      "text/plain": [
       "(2, 32)"
      ]
     },
     "execution_count": 27,
     "metadata": {},
     "output_type": "execute_result"
    }
   ],
   "source": []
  },
  {
   "cell_type": "code",
   "execution_count": null,
   "metadata": {
    "collapsed": true
   },
   "outputs": [],
   "source": []
  }
 ],
 "metadata": {
  "kernelspec": {
   "display_name": "sarcoma",
   "language": "python",
   "name": "sarcoma"
  },
  "language_info": {
   "codemirror_mode": {
    "name": "ipython",
    "version": 3
   },
   "file_extension": ".py",
   "mimetype": "text/x-python",
   "name": "python",
   "nbconvert_exporter": "python",
   "pygments_lexer": "ipython3",
   "version": "3.5.3"
  },
  "name": "Untitled.ipynb"
 },
 "nbformat": 4,
 "nbformat_minor": 0
}
