{
 "cells": [
  {
   "cell_type": "code",
   "execution_count": 1,
   "metadata": {
    "autoscroll": "json-false",
    "collapsed": false,
    "ein.tags": [
     "worksheet-0"
    ],
    "slideshow": {
     "slide_type": "-"
    }
   },
   "outputs": [],
   "source": [
    "import tensorflow as tf\n",
    "import matplotlib.pyplot as plt\n",
    "import numpy as np\n",
    "import pandas as pd\n",
    "import matplotlib\n",
    "import sklearn\n",
    "from sklearn_pandas import DataFrameMapper\n",
    "matplotlib.style.use('ggplot')\n",
    "%matplotlib inline"
   ]
  },
  {
   "cell_type": "code",
   "execution_count": 14,
   "metadata": {
    "autoscroll": "json-false",
    "collapsed": false,
    "ein.tags": [
     "worksheet-0"
    ],
    "slideshow": {
     "slide_type": "-"
    }
   },
   "outputs": [],
   "source": [
    "df = pd.read_csv('india_surroundings_1mar2016 _28_feb_2017.csv')\n",
    "del df['IRIS ID'], df['Year'], df['Month'], df['Day'], df['Time UTC'], df['Region']\n",
    "df = df.iloc[::-1]\n",
    "#df = pd.get_dummies(df)"
   ]
  },
  {
   "cell_type": "code",
   "execution_count": 15,
   "metadata": {
    "autoscroll": "json-false",
    "collapsed": false,
    "ein.tags": [
     "worksheet-0"
    ],
    "slideshow": {
     "slide_type": "-"
    }
   },
   "outputs": [],
   "source": [
    "train_test_ratio = .7\n",
    "train_size = int(df.shape[0] * train_test_ratio)\n",
    "train_data = df.iloc[:train_size]\n",
    "test_data = df.iloc[train_size:]"
   ]
  },
  {
   "cell_type": "code",
   "execution_count": 15,
   "metadata": {
    "autoscroll": "json-false",
    "collapsed": false,
    "ein.tags": [
     "worksheet-0"
    ],
    "slideshow": {
     "slide_type": "-"
    }
   },
   "outputs": [],
   "source": [
    " "
   ]
  },
  {
   "cell_type": "code",
   "execution_count": 16,
   "metadata": {
    "autoscroll": "json-false",
    "collapsed": false,
    "ein.tags": [
     "worksheet-0"
    ],
    "slideshow": {
     "slide_type": "-"
    }
   },
   "outputs": [
    {
     "name": "stderr",
     "output_type": "stream",
     "text": [
      "/home/nikhil/.conda/envs/sarcoma/lib/python3.5/site-packages/sklearn/utils/validation.py:429: DataConversionWarning: Data with input dtype int64 was converted to float64 by StandardScaler.\n",
      "  warnings.warn(msg, _DataConversionWarning)\n"
     ]
    }
   ],
   "source": [
    "mapper = DataFrameMapper([\n",
    "       # (['Region'], None),\n",
    "        (['Mag'],sklearn.preprocessing.StandardScaler()),\n",
    "        (['Lat'],sklearn.preprocessing.StandardScaler()),\n",
    "        (['Lon'],sklearn.preprocessing.StandardScaler()),\n",
    "        (['Depth km'],sklearn.preprocessing.StandardScaler()),\n",
    "        (['Timestamp'], sklearn.preprocessing.StandardScaler()) \n",
    "    ],default = None)\n",
    "train_data = mapper.fit_transform(train_data)\n",
    "#train_data[['Mag','Lat','Lon','Timestamp','Depth km']] = train_data[['Mag','Lat','Lon','Timestamp','Depth km']].astype(float)\n",
    "test_data = mapper.transform(test_data)\n",
    "#test_data[['Mag','Lat','Lon','Timestamp','Depth km']] = test_data[['Mag','Lat','Lon','Timestamp','Depth km']].astype(float)\n"
   ]
  },
  {
   "cell_type": "code",
   "execution_count": 16,
   "metadata": {
    "autoscroll": "json-false",
    "collapsed": false,
    "ein.tags": [
     "worksheet-0"
    ],
    "slideshow": {
     "slide_type": "-"
    }
   },
   "outputs": [],
   "source": []
  },
  {
   "cell_type": "code",
   "execution_count": 33,
   "metadata": {
    "autoscroll": "json-false",
    "collapsed": false,
    "ein.tags": [
     "worksheet-0"
    ],
    "slideshow": {
     "slide_type": "-"
    }
   },
   "outputs": [
    {
     "data": {
      "image/png": "[encoded data removed]",
      "text/plain": [
       "<matplotlib.figure.Figure at 0x7fb94d1d37f0>"
      ]
     },
     "metadata": {},
     "output_type": "display_data"
    },
    {
     "name": "stderr",
     "output_type": "stream",
     "text": [
      "/home/nikhil/.local/lib/python3.5/site-packages/numpy/core/fromnumeric.py:2889: RuntimeWarning: Mean of empty slice.\n",
      "  out=out, **kwargs)\n",
      "/home/nikhil/.local/lib/python3.5/site-packages/numpy/core/_methods.py:80: RuntimeWarning: invalid value encountered in double_scalars\n",
      "  ret = ret.dtype.type(ret / rcount)\n"
     ]
    },
    {
     "name": "stdout",
     "output_type": "stream",
     "text": [
      "lr decreased to 0.009856427164746504\n",
      "Test set loss: 3.23747\n"
     ]
    },
    {
     "name": "stdout",
     "output_type": "stream",
     "text": [
      "lr decreased to 0.010375186489206847\n"
     ]
    },
    {
     "name": "stdout",
     "output_type": "stream",
     "text": [
      "lr decreased to 0.010921248936007207\n"
     ]
    },
    {
     "name": "stdout",
     "output_type": "stream",
     "text": [
      "lr decreased to 0.011496051511586534\n"
     ]
    },
    {
     "name": "stdout",
     "output_type": "stream",
     "text": [
      "Epoch 1550 avg. batch loss 3.29589\n"
     ]
    },
    {
     "name": "stdout",
     "output_type": "stream",
     "text": [
      "lr decreased to 0.012101106854301616\n"
     ]
    },
    {
     "name": "stdout",
     "output_type": "stream",
     "text": [
      "lr decreased to 0.012738007215054333\n"
     ]
    },
    {
     "name": "stdout",
     "output_type": "stream",
     "text": [
      "lr decreased to 0.013408428647425615\n"
     ]
    },
    {
     "name": "stdout",
     "output_type": "stream",
     "text": [
      "lr decreased to 0.014114135418342753\n"
     ]
    },
    {
     "name": "stdout",
     "output_type": "stream",
     "text": [
      "lr decreased to 0.014856984650887108\n"
     ]
    },
    {
     "name": "stdout",
     "output_type": "stream",
     "text": [
      "Epoch 1500 avg. batch loss 3.29007\n"
     ]
    },
    {
     "name": "stdout",
     "output_type": "stream",
     "text": [
      "lr decreased to 0.015638931211460115\n"
     ]
    },
    {
     "name": "stdout",
     "output_type": "stream",
     "text": [
      "lr decreased to 0.016462032854168543\n"
     ]
    },
    {
     "name": "stdout",
     "output_type": "stream",
     "text": [
      "Epoch 1450 avg. batch loss 3.24841\n"
     ]
    },
    {
     "name": "stdout",
     "output_type": "stream",
     "text": [
      "lr decreased to 0.01732845563596689\n"
     ]
    },
    {
     "name": "stdout",
     "output_type": "stream",
     "text": [
      "lr decreased to 0.018240479616807255\n"
     ]
    },
    {
     "name": "stdout",
     "output_type": "stream",
     "text": [
      "lr decreased to 0.019200504859797112\n"
     ]
    },
    {
     "name": "stdout",
     "output_type": "stream",
     "text": [
      "lr decreased to 0.020211057747154856\n"
     ]
    },
    {
     "name": "stdout",
     "output_type": "stream",
     "text": [
      "lr decreased to 0.02127479762858406\n"
     ]
    },
    {
     "name": "stdout",
     "output_type": "stream",
     "text": [
      "lr decreased to 0.02239452381956217\n"
     ]
    },
    {
     "name": "stdout",
     "output_type": "stream",
     "text": [
      "lr decreased to 0.023573182967960182\n",
      "Epoch 1400 avg. batch loss 3.27484\n"
     ]
    },
    {
     "name": "stdout",
     "output_type": "stream",
     "text": [
      "lr decreased to 0.02481387680837914\n"
     ]
    },
    {
     "name": "stdout",
     "output_type": "stream",
     "text": [
      "lr decreased to 0.026119870324609624\n"
     ]
    },
    {
     "name": "stdout",
     "output_type": "stream",
     "text": [
      "lr decreased to 0.02749460034169434\n"
     ]
    },
    {
     "name": "stdout",
     "output_type": "stream",
     "text": [
      "Epoch 1350 avg. batch loss 3.25253\n"
     ]
    },
    {
     "name": "stdout",
     "output_type": "stream",
     "text": [
      "lr decreased to 0.02894168457020457\n"
     ]
    },
    {
     "name": "stdout",
     "output_type": "stream",
     "text": [
      "lr decreased to 0.030464931126531127\n"
     ]
    },
    {
     "name": "stdout",
     "output_type": "stream",
     "text": [
      "lr decreased to 0.032068348554243294\n"
     ]
    },
    {
     "name": "stdout",
     "output_type": "stream",
     "text": [
      "lr decreased to 0.03375615637288768\n"
     ]
    },
    {
     "name": "stdout",
     "output_type": "stream",
     "text": [
      "lr decreased to 0.035532796181987035\n"
     ]
    },
    {
     "name": "stdout",
     "output_type": "stream",
     "text": [
      "lr decreased to 0.03740294334946004\n"
     ]
    },
    {
     "name": "stdout",
     "output_type": "stream",
     "text": [
      "Epoch 1300 avg. batch loss 3.2324\n"
     ]
    },
    {
     "name": "stdout",
     "output_type": "stream",
     "text": [
      "lr decreased to 0.03937151931522109\n"
     ]
    },
    {
     "name": "stdout",
     "output_type": "stream",
     "text": [
      "lr decreased to 0.04144370454233799\n"
     ]
    },
    {
     "name": "stdout",
     "output_type": "stream",
     "text": [
      "lr decreased to 0.04362495214982947\n"
     ]
    },
    {
     "name": "stdout",
     "output_type": "stream",
     "text": [
      "lr decreased to 0.04592100226297839\n"
     ]
    },
    {
     "name": "stdout",
     "output_type": "stream",
     "text": [
      "lr decreased to 0.048337897118924625\n"
     ]
    },
    {
     "name": "stdout",
     "output_type": "stream",
     "text": [
      "lr decreased to 0.05088199696728908\n",
      "Epoch 1250 avg. batch loss 3.32764\n"
     ]
    },
    {
     "name": "stdout",
     "output_type": "stream",
     "text": [
      "lr decreased to 0.05355999680767272\n"
     ]
    },
    {
     "name": "stdout",
     "output_type": "stream",
     "text": [
      "lr decreased to 0.05637894400807655\n"
     ]
    },
    {
     "name": "stdout",
     "output_type": "stream",
     "text": [
      "lr decreased to 0.0593462568506069\n"
     ]
    },
    {
     "name": "stdout",
     "output_type": "stream",
     "text": [
      "lr decreased to 0.06246974405327042\n"
     ]
    },
    {
     "name": "stdout",
     "output_type": "stream",
     "text": [
      "lr decreased to 0.06575762531923203\n"
     ]
    },
    {
     "name": "stdout",
     "output_type": "stream",
     "text": [
      "Epoch 1200 avg. batch loss 3.23877\n"
     ]
    },
    {
     "name": "stdout",
     "output_type": "stream",
     "text": [
      "lr decreased to 0.06921855296761266\n"
     ]
    },
    {
     "name": "stdout",
     "output_type": "stream",
     "text": [
      "lr decreased to 0.07286163470275017\n"
     ]
    },
    {
     "name": "stdout",
     "output_type": "stream",
     "text": [
      "lr decreased to 0.07669645758184229\n"
     ]
    },
    {
     "name": "stdout",
     "output_type": "stream",
     "text": [
      "lr decreased to 0.08073311324404452\n"
     ]
    },
    {
     "name": "stdout",
     "output_type": "stream",
     "text": [
      "Epoch 1150 avg. batch loss 3.29358\n"
     ]
    },
    {
     "name": "stdout",
     "output_type": "stream",
     "text": [
      "lr decreased to 0.08498222446741528\n"
     ]
    },
    {
     "name": "stdout",
     "output_type": "stream",
     "text": [
      "lr decreased to 0.08945497312359504\n"
     ]
    },
    {
     "name": "stdout",
     "output_type": "stream",
     "text": [
      "lr decreased to 0.09416312960378426\n"
     ]
    },
    {
     "name": "stdout",
     "output_type": "stream",
     "text": [
      "lr decreased to 0.09911908379345712\n"
     ]
    },
    {
     "name": "stdout",
     "output_type": "stream",
     "text": [
      "Epoch 1100 avg. batch loss 3.32067\n"
     ]
    },
    {
     "name": "stdout",
     "output_type": "stream",
     "text": [
      "lr decreased to 0.10433587767732329\n"
     ]
    },
    {
     "name": "stdout",
     "output_type": "stream",
     "text": [
      "lr decreased to 0.1098272396603403\n"
     ]
    },
    {
     "name": "stdout",
     "output_type": "stream",
     "text": [
      "lr decreased to 0.11560762069509506\n"
     ]
    },
    {
     "name": "stdout",
     "output_type": "stream",
     "text": [
      "lr decreased to 0.12169223231062638\n",
      "Epoch 1050 avg. batch loss 3.25114\n"
     ]
    },
    {
     "name": "stdout",
     "output_type": "stream",
     "text": [
      "lr decreased to 0.12809708664276462\n"
     ]
    },
    {
     "name": "stdout",
     "output_type": "stream",
     "text": [
      "lr decreased to 0.13483903857133117\n"
     ]
    },
    {
     "name": "stdout",
     "output_type": "stream",
     "text": [
      "lr decreased to 0.14193583007508545\n"
     ]
    },
    {
     "name": "stdout",
     "output_type": "stream",
     "text": [
      "lr decreased to 0.14940613692114257\n"
     ]
    },
    {
     "name": "stdout",
     "output_type": "stream",
     "text": [
      "lr decreased to 0.15726961781172905\n"
     ]
    },
    {
     "name": "stdout",
     "output_type": "stream",
     "text": [
      "Epoch 1000 avg. batch loss 3.30848\n"
     ]
    },
    {
     "name": "stdout",
     "output_type": "stream",
     "text": [
      "lr decreased to 0.16554696611760952\n"
     ]
    },
    {
     "name": "stdout",
     "output_type": "stream",
     "text": [
      "lr decreased to 0.17425996433432583\n"
     ]
    },
    {
     "name": "stdout",
     "output_type": "stream",
     "text": [
      "lr decreased to 0.1834315414045535\n"
     ]
    },
    {
     "name": "stdout",
     "output_type": "stream",
     "text": [
      "lr decreased to 0.19308583305742474\n"
     ]
    },
    {
     "name": "stdout",
     "output_type": "stream",
     "text": [
      "lr decreased to 0.203248245323605\n"
     ]
    },
    {
     "name": "stdout",
     "output_type": "stream",
     "text": [
      "Epoch 950 avg. batch loss 3.23477\n"
     ]
    },
    {
     "name": "stdout",
     "output_type": "stream",
     "text": [
      "lr decreased to 0.21394552139326842\n"
     ]
    },
    {
     "name": "stdout",
     "output_type": "stream",
     "text": [
      "lr decreased to 0.22520581199291415\n"
     ]
    },
    {
     "name": "stdout",
     "output_type": "stream",
     "text": [
      "lr decreased to 0.23705874946622543\n"
     ]
    },
    {
     "name": "stdout",
     "output_type": "stream",
     "text": [
      "lr decreased to 0.24953552575392152\n"
     ]
    },
    {
     "name": "stdout",
     "output_type": "stream",
     "text": [
      "Epoch 900 avg. batch loss 3.27892\n"
     ]
    },
    {
     "name": "stdout",
     "output_type": "stream",
     "text": [
      "lr decreased to 0.2626689744778121\n"
     ]
    },
    {
     "name": "stdout",
     "output_type": "stream",
     "text": [
      "lr decreased to 0.2764936573450654\n"
     ]
    },
    {
     "name": "stdout",
     "output_type": "stream",
     "text": [
      "lr decreased to 0.29104595510006886\n"
     ]
    },
    {
     "name": "stdout",
     "output_type": "stream",
     "text": [
      "lr decreased to 0.3063641632632304\n"
     ]
    },
    {
     "name": "stdout",
     "output_type": "stream",
     "text": [
      "lr decreased to 0.3224885929086636\n"
     ]
    },
    {
     "name": "stdout",
     "output_type": "stream",
     "text": [
      "Epoch 850 avg. batch loss 3.30085\n"
     ]
    },
    {
     "name": "stdout",
     "output_type": "stream",
     "text": [
      "lr decreased to 0.3394616767459617\n"
     ]
    },
    {
     "name": "stdout",
     "output_type": "stream",
     "text": [
      "lr decreased to 0.3573280807852229\n"
     ]
    },
    {
     "name": "stdout",
     "output_type": "stream",
     "text": [
      "Epoch 800 avg. batch loss 3.25841\n"
     ]
    },
    {
     "name": "stdout",
     "output_type": "stream",
     "text": [
      "lr decreased to 0.376134821879182\n"
     ]
    },
    {
     "name": "stdout",
     "output_type": "stream",
     "text": [
      "lr decreased to 0.3959313914517706\n"
     ]
    },
    {
     "name": "stdout",
     "output_type": "stream",
     "text": [
      "lr decreased to 0.4167698857387059\n"
     ]
    },
    {
     "name": "stdout",
     "output_type": "stream",
     "text": [
      "Epoch 750 avg. batch loss 3.31772\n"
     ]
    },
    {
     "name": "stdout",
     "output_type": "stream",
     "text": [
      "lr decreased to 0.43870514288284834\n"
     ]
    },
    {
     "name": "stdout",
     "output_type": "stream",
     "text": [
      "lr decreased to 0.46179488724510354\n"
     ]
    },
    {
     "name": "stdout",
     "output_type": "stream",
     "text": [
      "lr decreased to 0.4860998813106353\n"
     ]
    },
    {
     "name": "stdout",
     "output_type": "stream",
     "text": [
      "lr decreased to 0.5116840855901424\n"
     ]
    },
    {
     "name": "stdout",
     "output_type": "stream",
     "text": [
      "lr decreased to 0.538614826936992\n"
     ]
    },
    {
     "name": "stdout",
     "output_type": "stream",
     "text": [
      "lr decreased to 0.5669629757231496\n"
     ]
    },
    {
     "name": "stdout",
     "output_type": "stream",
     "text": [
      "Epoch 700 avg. batch loss 3.23986\n"
     ]
    },
    {
     "name": "stdout",
     "output_type": "stream",
     "text": [
      "lr decreased to 0.5968031323401575\n"
     ]
    },
    {
     "name": "stdout",
     "output_type": "stream",
     "text": [
      "lr decreased to 0.6282138235159552\n"
     ]
    },
    {
     "name": "stdout",
     "output_type": "stream",
     "text": [
      "lr decreased to 0.6612777089641634\n"
     ]
    },
    {
     "name": "stdout",
     "output_type": "stream",
     "text": [
      "lr decreased to 0.6960817989096457\n"
     ]
    },
    {
     "name": "stdout",
     "output_type": "stream",
     "text": [
      "lr decreased to 0.732717683062785\n"
     ]
    },
    {
     "name": "stdout",
     "output_type": "stream",
     "text": [
      "lr decreased to 0.7712817716450369\n"
     ]
    },
    {
     "name": "stdout",
     "output_type": "stream",
     "text": [
      "Epoch 650 avg. batch loss 3.21988\n"
     ]
    },
    {
     "name": "stdout",
     "output_type": "stream",
     "text": [
      "lr decreased to 0.8118755491000389\n"
     ]
    },
    {
     "name": "stdout",
     "output_type": "stream",
     "text": [
      "lr decreased to 0.8546058411579357\n"
     ]
    },
    {
     "name": "stdout",
     "output_type": "stream",
     "text": [
      "lr decreased to 0.8995850959557218\n"
     ]
    },
    {
     "name": "stdout",
     "output_type": "stream",
     "text": [
      "lr decreased to 0.9469316799533914\n"
     ]
    },
    {
     "name": "stdout",
     "output_type": "stream",
     "text": [
      "lr decreased to 0.9967701894246226\n"
     ]
    },
    {
     "name": "stdout",
     "output_type": "stream",
     "text": [
      "Epoch 600 avg. batch loss 3.31831\n"
     ]
    },
    {
     "name": "stdout",
     "output_type": "stream",
     "text": [
      "lr decreased to 1.049231778341708\n"
     ]
    },
    {
     "name": "stdout",
     "output_type": "stream",
     "text": [
      "lr decreased to 1.1044545035175874\n"
     ]
    },
    {
     "name": "stdout",
     "output_type": "stream",
     "text": [
      "lr decreased to 1.16258368791325\n"
     ]
    },
    {
     "name": "stdout",
     "output_type": "stream",
     "text": [
      "lr decreased to 1.223772303066579\n"
     ]
    },
    {
     "name": "stdout",
     "output_type": "stream",
     "text": [
      "lr decreased to 1.2881813716490307\n"
     ]
    },
    {
     "name": "stdout",
     "output_type": "stream",
     "text": [
      "Epoch 550 avg. batch loss 3.33768\n"
     ]
    },
    {
     "name": "stdout",
     "output_type": "stream",
     "text": [
      "lr decreased to 1.355980391209506\n"
     ]
    },
    {
     "name": "stdout",
     "output_type": "stream",
     "text": [
      "lr decreased to 1.4273477802205328\n"
     ]
    },
    {
     "name": "stdout",
     "output_type": "stream",
     "text": [
      "lr decreased to 1.502471347600561\n"
     ]
    },
    {
     "name": "stdout",
     "output_type": "stream",
     "text": [
      "lr decreased to 1.581548786947959\n"
     ]
    },
    {
     "name": "stdout",
     "output_type": "stream",
     "text": [
      "Epoch 500 avg. batch loss 3.34881\n"
     ]
    },
    {
     "name": "stdout",
     "output_type": "stream",
     "text": [
      "lr decreased to 1.6647881967873253\n"
     ]
    },
    {
     "name": "stdout",
     "output_type": "stream",
     "text": [
      "lr decreased to 1.7524086281971847\n"
     ]
    },
    {
     "name": "stdout",
     "output_type": "stream",
     "text": [
      "lr decreased to 1.8446406612601944\n"
     ]
    },
    {
     "name": "stdout",
     "output_type": "stream",
     "text": [
      "lr decreased to 1.9417270118528362\n"
     ]
    },
    {
     "name": "stdout",
     "output_type": "stream",
     "text": [
      "lr decreased to 2.0439231703714067\n"
     ]
    },
    {
     "name": "stdout",
     "output_type": "stream",
     "text": [
      "lr decreased to 2.1514980740751652\n",
      "Epoch 450 avg. batch loss 3.30176\n"
     ]
    },
    {
     "name": "stdout",
     "output_type": "stream",
     "text": [
      "lr decreased to 2.2647348148159634\n"
     ]
    },
    {
     "name": "stdout",
     "output_type": "stream",
     "text": [
      "Epoch 400 avg. batch loss 3.35105\n"
     ]
    },
    {
     "name": "stdout",
     "output_type": "stream",
     "text": [
      "lr decreased to 2.3839313840168037\n"
     ]
    },
    {
     "name": "stdout",
     "output_type": "stream",
     "text": [
      "lr decreased to 2.5094014568597935\n"
     ]
    },
    {
     "name": "stdout",
     "output_type": "stream",
     "text": [
      "lr decreased to 2.641475217747151\n"
     ]
    },
    {
     "name": "stdout",
     "output_type": "stream",
     "text": [
      "lr decreased to 2.7805002292075276\n"
     ]
    },
    {
     "name": "stdout",
     "output_type": "stream",
     "text": [
      "lr decreased to 2.9268423465342397\n"
     ]
    },
    {
     "name": "stdout",
     "output_type": "stream",
     "text": [
      "Epoch 350 avg. batch loss 3.37613\n"
     ]
    },
    {
     "name": "stdout",
     "output_type": "stream",
     "text": [
      "lr decreased to 3.0808866805623576\n"
     ]
    },
    {
     "name": "stdout",
     "output_type": "stream",
     "text": [
      "lr decreased to 3.2430386111182714\n"
     ]
    },
    {
     "name": "stdout",
     "output_type": "stream",
     "text": [
      "lr decreased to 3.413724853808707\n"
     ]
    },
    {
     "name": "stdout",
     "output_type": "stream",
     "text": [
      "Epoch 300 avg. batch loss 3.49251\n"
     ]
    },
    {
     "name": "stdout",
     "output_type": "stream",
     "text": [
      "lr decreased to 3.593394582956534\n"
     ]
    },
    {
     "name": "stdout",
     "output_type": "stream",
     "text": [
      "lr decreased to 3.7825206136384573\n"
     ]
    },
    {
     "name": "stdout",
     "output_type": "stream",
     "text": [
      "Epoch 250 avg. batch loss 3.52599\n"
     ]
    },
    {
     "name": "stdout",
     "output_type": "stream",
     "text": [
      "lr decreased to 3.9816006459352185\n"
     ]
    },
    {
     "name": "stdout",
     "output_type": "stream",
     "text": [
      "lr decreased to 4.191158574668651\n"
     ]
    },
    {
     "name": "stdout",
     "output_type": "stream",
     "text": [
      "lr decreased to 4.4117458680722645\n"
     ]
    },
    {
     "name": "stdout",
     "output_type": "stream",
     "text": [
      "Epoch 200 avg. batch loss 3.66674\n"
     ]
    },
    {
     "name": "stdout",
     "output_type": "stream",
     "text": [
      "lr decreased to 4.643943019023436\n"
     ]
    },
    {
     "name": "stdout",
     "output_type": "stream",
     "text": [
      "lr decreased to 4.888361072656249\n"
     ]
    },
    {
     "name": "stdout",
     "output_type": "stream",
     "text": [
      "lr decreased to 5.145643234374999\n"
     ]
    },
    {
     "name": "stdout",
     "output_type": "stream",
     "text": [
      "Epoch 150 avg. batch loss 3.60628\n"
     ]
    },
    {
     "name": "stdout",
     "output_type": "stream",
     "text": [
      "lr decreased to 5.416466562499999\n"
     ]
    },
    {
     "name": "stdout",
     "output_type": "stream",
     "text": [
      "lr decreased to 5.701543749999999\n"
     ]
    },
    {
     "name": "stdout",
     "output_type": "stream",
     "text": [
      "Epoch 100 avg. batch loss 3.86881\n"
     ]
    },
    {
     "name": "stdout",
     "output_type": "stream",
     "text": [
      "lr decreased to 6.001624999999999\n"
     ]
    },
    {
     "name": "stdout",
     "output_type": "stream",
     "text": [
      "Epoch 50 avg. batch loss 4.247\n"
     ]
    },
    {
     "name": "stdout",
     "output_type": "stream",
     "text": [
      "lr decreased to 6.317499999999999\n"
     ]
    },
    {
     "name": "stdout",
     "output_type": "stream",
     "text": [
      "lr decreased to 6.6499999999999995\n",
      "Epoch 0 avg. batch loss 38.1374\n"
     ]
    },
    {
     "name": "stdout",
     "output_type": "stream",
     "text": [
      "Training set loss:\n"
     ]
    }
   ],
   "source": [
    "num_epochs = 10000 \n",
    "truncated_backprop_length = 15\n",
    "state_size = 40\n",
    "echo_step = 3\n",
    "batch_size = 4 # must be a factor of train data and test data size\n",
    "total_series_length, num_features = train_data.shape\n",
    "num_outputs = num_features\n",
    "num_batches = total_series_length - (total_series_length//batch_size*(batch_size-1) + truncated_backprop_length-1)\n",
    "num_layers = 2\n",
    "x = train_data\n",
    "y = np.roll(x, echo_step)\n",
    "y[0:echo_step] = np.zeros(num_features)\n",
    "x = x.reshape((batch_size, -1, num_features))\n",
    "y = y.reshape((batch_size, -1, num_features))\n",
    "\n",
    "xtest = test_data\n",
    "ytest = np.roll(xtest, echo_step)\n",
    "ytest[0:echo_step] = np.zeros(num_features)\n",
    "xtest = xtest.reshape((batch_size, -1, num_features))\n",
    "ytest = ytest.reshape((batch_size, -1, num_features))\n",
    "total_series_length, _ = test_data.shape\n",
    "num_batches_test = total_series_length - (total_series_length//batch_size*(batch_size-1) + truncated_backprop_length-1)\n",
    "\n",
    "graph = tf.Graph()\n",
    "with graph.as_default():\n",
    "\n",
    "    batchX_placeholder = tf.placeholder(tf.float32, [batch_size, truncated_backprop_length, num_features])\n",
    "    batchY_placeholder = tf.placeholder(tf.float32, [batch_size, truncated_backprop_length, num_features])\n",
    "    keep_prob = tf.placeholder(tf.float32)\n",
    "    init_state = tf.placeholder(tf.float32, [num_layers, 2, batch_size, state_size])\n",
    "\n",
    "    state_per_layer_list = tf.unstack(init_state, axis=0)\n",
    "    rnn_tuple_state = tuple([tf.contrib.rnn.core_rnn_cell.LSTMStateTuple(state_per_layer_list[idx][0], state_per_layer_list[idx][1])\n",
    "                   for idx in range(num_layers)])\n",
    "\n",
    "    W = tf.Variable(np.random.rand(state_size+num_features, state_size), dtype=tf.float32)\n",
    "    b = tf.Variable(np.zeros((1,state_size)), dtype=tf.float32)\n",
    "\n",
    "    W2 = tf.Variable(np.random.rand(state_size, num_outputs),dtype=tf.float32)\n",
    "    b2 = tf.Variable(np.zeros((1,num_outputs)), dtype=tf.float32)\n",
    "\n",
    "    # Forward passes\n",
    "    cell = tf.contrib.rnn.core_rnn_cell.LSTMCell(state_size, state_is_tuple=True)\n",
    "    cell = tf.contrib.rnn.core_rnn_cell.DropoutWrapper(cell, output_keep_prob=keep_prob)\n",
    "    cell = tf.contrib.rnn.core_rnn_cell.MultiRNNCell([cell] * num_layers, state_is_tuple=True)\n",
    "\n",
    "    states_series, current_state = tf.nn.dynamic_rnn(cell, batchX_placeholder, initial_state=rnn_tuple_state)\n",
    "    states_series = tf.reshape(states_series, [-1, state_size])\n",
    "\n",
    "    outputs = tf.matmul(states_series, W2) + b2\n",
    "    targets = tf.reshape(batchY_placeholder, [-1, num_features])\n",
    "\n",
    "    losses = tf.sqrt(tf.reduce_mean(tf.squared_difference(outputs, targets),0))\n",
    "    total_loss = tf.reduce_sum(losses)\n",
    "    step = tf.Variable(0, trainable=False)\n",
    "    learning_rate = tf.placeholder(tf.float32)\n",
    "    train_step = tf.train.AdagradOptimizer(learning_rate).minimize(total_loss, global_step = step)\n",
    "\n",
    "batchesX = []\n",
    "batchesY = []\n",
    "for batch_idx in range(num_batches):\n",
    "    start_idx = batch_idx\n",
    "    end_idx = start_idx + truncated_backprop_length\n",
    "\n",
    "    batchesX.append(x[:, start_idx:end_idx])\n",
    "    batchesY.append(y[:, start_idx:end_idx])\n",
    "            \n",
    "loss_list = []\n",
    "lr = 7\n",
    "test_outputs = []\n",
    "test_targets = []\n",
    "with tf.Session(graph=graph) as sess:\n",
    "    tf.global_variables_initializer().run()\n",
    "    print('Training set loss:')\n",
    "    for epoch_idx in range(num_epochs):\n",
    "\n",
    "        _current_state = np.zeros((num_layers, 2, batch_size, state_size))\n",
    "        batch_loss = [] \n",
    "        for batch_idx in range(num_batches):\n",
    "\n",
    "            _total_loss, _train_step, _current_state = sess.run(\n",
    "                [total_loss, train_step, current_state],\n",
    "                feed_dict={\n",
    "                    batchX_placeholder: batchesX[batch_idx],\n",
    "                    batchY_placeholder: batchesY[batch_idx],\n",
    "                    init_state: _current_state,\n",
    "                    keep_prob: 0.7,\n",
    "                    learning_rate: lr\n",
    "                })\n",
    "            batch_loss.append(_total_loss) \n",
    "            \n",
    "        loss_list.append(np.mean(batch_loss))\n",
    "        if np.argmin(loss_list[-10:]) == 0:\n",
    "            lr *= .95\n",
    "            print('lr decreased to', lr)\n",
    "        if lr < .01:\n",
    "            num_epochs = epoch_idx + 1\n",
    "            break\n",
    "        if epoch_idx % 50 == 0:\n",
    "            print(\"Epoch\", epoch_idx, \"avg. batch loss\", np.mean(batch_loss)) \n",
    "    \n",
    "    _current_state = np.zeros((num_layers, 2, batch_size, state_size))\n",
    "    batch_indv_loss = []\n",
    "    for batch_idx in range(num_batches_test):\n",
    "        start_idx = batch_idx\n",
    "        end_idx = start_idx + truncated_backprop_length\n",
    "        \n",
    "        batchX = xtest[:, start_idx:end_idx]\n",
    "        batchY = ytest[:, start_idx:end_idx]\n",
    "        \n",
    "        _total_loss, indv_losses, _outputs, _targets = sess.run(\n",
    "                [total_loss, losses, outputs, targets],\n",
    "                feed_dict={\n",
    "                    batchX_placeholder: batchesX[batch_idx],\n",
    "                    batchY_placeholder: batchesY[batch_idx],\n",
    "                    init_state: _current_state,\n",
    "                    keep_prob: 1\n",
    "                })\n",
    "        test_outputs.append(_outputs)\n",
    "        test_targets.append(_targets)\n",
    "        batch_loss.append(_total_loss)\n",
    "\n",
    "indv_loss = np.mean(batch_indv_loss, axis=0)\n",
    "print('Test set loss:', np.mean(batch_loss))\n",
    "plt.plot(np.arange(50,num_epochs,1),loss_list[50:],label='Total loss')\n",
    "plt.plot(np.arange(64,num_epochs,1),\n",
    "         np.convolve(loss_list[50:], np.ones((15,))/15, mode='valid'), color='black',\n",
    "         label='Smoothened')\n",
    "plt.ylabel('loss')\n",
    "plt.xlabel('epochs')\n",
    "plt.legend()\n",
    "plt.show()"
   ]
  },
  {
   "cell_type": "code",
   "execution_count": 38,
   "metadata": {
    "autoscroll": "json-false",
    "collapsed": false,
    "ein.tags": [
     "worksheet-0"
    ],
    "slideshow": {
     "slide_type": "-"
    }
   },
   "outputs": [
    {
     "data": {
      "image/png": "[encoded data removed]",
      "text/plain": [
       "<matplotlib.figure.Figure at 0x7fb96066c390>"
      ]
     },
     "metadata": {},
     "output_type": "display_data"
    },
    {
     "name": "stdout",
     "output_type": "stream",
     "text": [
      "total r2 score 0.558496044395\n",
      "r2 scores for individual variables {'Timestamp': 0.66200000000000003, 'Depth km': 0.34399999999999997, 'Mag': 0.64400000000000002, 'Lat': 0.44700000000000001, 'Lon': 0.60399999999999998}\n"
     ]
    },
    {
     "name": "stderr",
     "output_type": "stream",
     "text": [
      "/home/nikhil/.conda/envs/sarcoma/lib/python3.5/site-packages/sklearn/metrics/regression.py:482: DeprecationWarning: Default 'multioutput' behavior now corresponds to 'variance_weighted' value which is deprecated since 0.17, it will be changed to 'uniform_average' starting from 0.19.\n",
      "  DeprecationWarning)\n"
     ]
    }
   ],
   "source": [
    "test_targets, test_outputs = np.reshape(test_targets,(-1,5)), np.reshape(test_outputs,(-1,5)) \n",
    "from sklearn.metrics import r2_score\n",
    "total_error = r2_score(test_targets, test_outputs) \n",
    "print(\"total r2 score\", total_error)\n",
    "plt.axhline([total_error],0,1,label='overall score')\n",
    "indv_error_dict = {col:np.round(r2_score(test_targets[:,i], test_outputs[:,i]),3) for i, col in enumerate(df.columns)}\n",
    "print(\"r2 scores for individual variables\", indv_error_dict)\n",
    "plt.bar(range(len(indv_error_dict)), indv_error_dict.values())\n",
    "plt.xticks(range(len(indv_error_dict)), indv_error_dict.keys())\n",
    "plt.ylabel('r2 score')\n",
    "plt.xlabel('Predicted Variable')\n",
    "plt.legend()\n",
    "plt.savefig(\"test.eps\", format=\"eps\")\n",
    "plt.show()"
   ]
  },
  {
   "cell_type": "code",
   "execution_count": 0,
   "metadata": {
    "autoscroll": "json-false",
    "collapsed": false,
    "ein.tags": [
     "worksheet-0"
    ],
    "slideshow": {
     "slide_type": "-"
    }
   },
   "outputs": [],
   "source": []
  }
 ],
 "metadata": {
  "kernelspec": {
   "display_name": "sarcoma",
   "name": "sarcoma"
  },
  "language_info": {
   "codemirror_mode": {
    "name": "ipython",
    "version": 3
   },
   "file_extension": ".py",
   "mimetype": "text/x-python",
   "name": "python",
   "nbconvert_exporter": "python",
   "pygments_lexer": "ipython3",
   "version": "3.5.3"
  },
  "name": "lstm.ipynb"
 },
 "nbformat": 4,
 "nbformat_minor": 0
}
