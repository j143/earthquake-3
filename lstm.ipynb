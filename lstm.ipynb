{
 "cells": [
  {
   "cell_type": "code",
   "execution_count": 26,
   "metadata": {
    "autoscroll": "json-false",
    "collapsed": false,
    "ein.tags": [
     "worksheet-0"
    ],
    "slideshow": {
     "slide_type": "-"
    }
   },
   "outputs": [],
   "source": [
    "import tensorflow as tf\n",
    "import matplotlib.pyplot as plt\n",
    "import numpy as np\n",
    "import pandas as pd\n",
    "import matplotlib\n",
    "import sklearn\n",
    "from sklearn_pandas import DataFrameMapper\n",
    "matplotlib.style.use('ggplot')\n",
    "%matplotlib inline"
   ]
  },
  {
   "cell_type": "code",
   "execution_count": 87,
   "metadata": {
    "autoscroll": "json-false",
    "collapsed": false,
    "ein.tags": [
     "worksheet-0"
    ],
    "slideshow": {
     "slide_type": "-"
    }
   },
   "outputs": [],
   "source": [
    "df = pd.read_csv('india_surroundings_1mar2016 _28_feb_2017.csv')\n",
    "del df['IRIS ID'], df['Year'], df['Month'], df['Day'], df['Time UTC']\n",
    "df = df.iloc[::-1]\n",
    "df = pd.get_dummies(df)"
   ]
  },
  {
   "cell_type": "code",
   "execution_count": 88,
   "metadata": {
    "autoscroll": "json-false",
    "collapsed": false,
    "ein.tags": [
     "worksheet-0"
    ],
    "slideshow": {
     "slide_type": "-"
    }
   },
   "outputs": [],
   "source": [
    "train_test_ratio = .7\n",
    "train_size = int(df.shape[0] * train_test_ratio)\n",
    "train_data = df.iloc[:train_size]\n",
    "test_data = df.iloc[train_size:]"
   ]
  },
  {
   "cell_type": "code",
   "execution_count": null,
   "metadata": {
    "autoscroll": "json-false",
    "collapsed": false,
    "ein.tags": [
     "worksheet-0"
    ],
    "slideshow": {
     "slide_type": "-"
    }
   },
   "outputs": [],
   "source": []
  },
  {
   "cell_type": "code",
   "execution_count": 89,
   "metadata": {
    "autoscroll": "json-false",
    "collapsed": false,
    "ein.tags": [
     "worksheet-0"
    ],
    "slideshow": {
     "slide_type": "-"
    }
   },
   "outputs": [
    {
     "name": "stderr",
     "output_type": "stream",
     "text": [
      "/home/nikhil/.conda/envs/sarcoma/lib/python3.5/site-packages/sklearn/utils/validation.py:429: DataConversionWarning: Data with input dtype int64 was converted to float64 by StandardScaler.\n",
      "  warnings.warn(msg, _DataConversionWarning)\n"
     ]
    }
   ],
   "source": [
    "mapper = DataFrameMapper([\n",
    "       # (['Region'], None),\n",
    "        (['Mag'],sklearn.preprocessing.StandardScaler()),\n",
    "        (['Depth km'],sklearn.preprocessing.StandardScaler()),\n",
    "        (['Lat'],sklearn.preprocessing.StandardScaler()),\n",
    "        (['Lon'],sklearn.preprocessing.StandardScaler()),\n",
    "        (['Timestamp'], sklearn.preprocessing.StandardScaler()) \n",
    "    ],default = None)\n",
    "train_data = mapper.fit_transform(train_data)\n",
    "#train_data[['Mag','Lat','Lon','Timestamp','Depth km']] = train_data[['Mag','Lat','Lon','Timestamp','Depth km']].astype(float)\n",
    "test_data = mapper.transform(test_data)\n",
    "#test_data[['Mag','Lat','Lon','Timestamp','Depth km']] = test_data[['Mag','Lat','Lon','Timestamp','Depth km']].astype(float)\n"
   ]
  },
  {
   "cell_type": "code",
   "execution_count": null,
   "metadata": {
    "collapsed": false
   },
   "outputs": [],
   "source": []
  },
  {
   "cell_type": "code",
   "execution_count": 91,
   "metadata": {
    "autoscroll": "json-false",
    "collapsed": false,
    "ein.tags": [
     "worksheet-0"
    ],
    "scrolled": false,
    "slideshow": {
     "slide_type": "-"
    }
   },
   "outputs": [
    {
     "name": "stdout",
     "output_type": "stream",
     "text": [
      "Training set loss:\n",
      "lr decreased to 6.6499999999999995\n",
      "Epoch 0 avg. batch loss 411.307\n",
      "Test set loss: 355.699\n",
      "Mag loss: 2.506\n",
      "Lat loss: 2.42\n",
      "Lon loss: 2.367\n",
      "Depth km loss: 1.955\n",
      "Timestamp loss: 2.431\n",
      "Region_AFGHANISTAN loss: 2.372\n",
      "Region_AFGHANISTAN-TAJIKISTAN BORD REG. loss: 2.315\n",
      "Region_ANDAMAN ISLANDS, INDIA loss: 2.323\n",
      "Region_ANDAMAN ISLANDS, INDIA REGION loss: 2.489\n",
      "Region_EASTERN KASHMIR loss: 2.21\n",
      "Region_EASTERN XIZANG-INDIA BORDER REG. loss: 2.27\n",
      "Region_HINDU KUSH REGION, AFGHANISTAN loss: 2.388\n",
      "Region_INDIA-BANGLADESH BORDER REGION loss: 2.618\n",
      "Region_INDIA-PAKISTAN BORDER REG. loss: 2.542\n",
      "Region_KASHMIR-XINJIANG BORDER REGION loss: 2.332\n",
      "Region_KASHMIR-XIZANG BORDER REGION loss: 2.384\n",
      "Region_MYANMAR loss: 2.628\n",
      "Region_MYANMAR-INDIA BORDER REGION loss: 2.49\n",
      "Region_NEPAL loss: 2.502\n",
      "Region_NEPAL-INDIA BORDER REGION loss: 2.259\n",
      "Region_NICOBAR ISLANDS, INDIA loss: 2.272\n",
      "Region_NORTHEASTERN INDIA loss: 2.278\n",
      "Region_NORTHERN INDIA loss: 2.588\n",
      "Region_NORTHWESTERN KASHMIR loss: 2.541\n",
      "Region_PAKISTAN loss: 2.556\n",
      "Region_QINGHAI, CHINA loss: 2.321\n",
      "Region_SOUTHEASTERN AFGHANISTAN loss: 2.637\n",
      "Region_SOUTHERN INDIA loss: 2.407\n",
      "Region_SOUTHERN XINJIANG, CHINA loss: 2.632\n",
      "Region_TAJIKISTAN loss: 2.567\n",
      "Region_WESTERN XIZANG-INDIA BORDER REG. loss: 2.668\n",
      "Region_XIZANG loss: 2.393\n"
     ]
    },
    {
     "data": {
      "image/png": "[encoded data removed]",
      "text/plain": [
       "<matplotlib.figure.Figure at 0x7fbdc1f367f0>"
      ]
     },
     "metadata": {},
     "output_type": "display_data"
    }
   ],
   "source": [
    "num_epochs = 1\n",
    "truncated_backprop_length = 15\n",
    "state_size = 100\n",
    "echo_step = 3\n",
    "batch_size = 4 # must be a factor of train data and test data size\n",
    "total_series_length, num_features = train_data.shape\n",
    "num_outputs = num_features\n",
    "num_batches = total_series_length - (total_series_length//batch_size*(batch_size-1) + truncated_backprop_length-1)\n",
    "num_layers = 2\n",
    "x = train_data\n",
    "y = np.roll(x, echo_step)\n",
    "y[0:echo_step] = np.zeros(num_features)\n",
    "x = x.reshape((batch_size, -1, num_features))\n",
    "y = y.reshape((batch_size, -1, num_features))\n",
    "\n",
    "xtest = test_data\n",
    "ytest = np.roll(xtest, echo_step)\n",
    "ytest[0:echo_step] = np.zeros(num_features)\n",
    "xtest = xtest.reshape((batch_size, -1, num_features))\n",
    "ytest = ytest.reshape((batch_size, -1, num_features))\n",
    "total_series_length, _ = test_data.shape\n",
    "num_batches_test = total_series_length - (total_series_length//batch_size*(batch_size-1) + truncated_backprop_length-1)\n",
    "\n",
    "graph = tf.Graph()\n",
    "with graph.as_default():\n",
    "\n",
    "    batchX_placeholder = tf.placeholder(tf.float32, [batch_size, truncated_backprop_length, num_features])\n",
    "    batchY_placeholder = tf.placeholder(tf.float32, [batch_size, truncated_backprop_length, num_features])\n",
    "    keep_prob = tf.placeholder(tf.float32)\n",
    "    init_state = tf.placeholder(tf.float32, [num_layers, 2, batch_size, state_size])\n",
    "\n",
    "    state_per_layer_list = tf.unstack(init_state, axis=0)\n",
    "    rnn_tuple_state = tuple([tf.contrib.rnn.core_rnn_cell.LSTMStateTuple(state_per_layer_list[idx][0], state_per_layer_list[idx][1])\n",
    "                   for idx in range(num_layers)])\n",
    "\n",
    "    W = tf.Variable(np.random.rand(state_size+num_features, state_size), dtype=tf.float32)\n",
    "    b = tf.Variable(np.zeros((1,state_size)), dtype=tf.float32)\n",
    "\n",
    "    W2 = tf.Variable(np.random.rand(state_size, num_outputs),dtype=tf.float32)\n",
    "    b2 = tf.Variable(np.zeros((1,num_outputs)), dtype=tf.float32)\n",
    "\n",
    "    # Forward passes\n",
    "    cell = tf.contrib.rnn.core_rnn_cell.LSTMCell(state_size, state_is_tuple=True)\n",
    "    cell = tf.contrib.rnn.core_rnn_cell.DropoutWrapper(cell, output_keep_prob=keep_prob)\n",
    "    cell = tf.contrib.rnn.core_rnn_cell.MultiRNNCell([cell] * num_layers, state_is_tuple=True)\n",
    "\n",
    "    states_series, current_state = tf.nn.dynamic_rnn(cell, batchX_placeholder, initial_state=rnn_tuple_state)\n",
    "    states_series = tf.reshape(states_series, [-1, state_size])\n",
    "\n",
    "    outputs = tf.matmul(states_series, W2) + b2\n",
    "    targets = tf.reshape(batchY_placeholder, [-1, num_features])\n",
    "\n",
    "    losses = tf.sqrt(tf.reduce_mean(tf.squared_difference(outputs, targets),0))\n",
    "    total_loss = tf.reduce_sum(losses)\n",
    "    step = tf.Variable(0, trainable=False)\n",
    "    learning_rate = tf.placeholder(tf.float32)\n",
    "    train_step = tf.train.AdagradOptimizer(learning_rate).minimize(total_loss, global_step = step)\n",
    "\n",
    "batchesX = []\n",
    "batchesY = []\n",
    "for batch_idx in range(num_batches):\n",
    "    start_idx = batch_idx\n",
    "    end_idx = start_idx + truncated_backprop_length\n",
    "\n",
    "    batchesX.append(x[:, start_idx:end_idx])\n",
    "    batchesY.append(y[:, start_idx:end_idx])\n",
    "            \n",
    "loss_list = []\n",
    "#indv_loss_list = []\n",
    "lr = 7\n",
    "with tf.Session(graph=graph) as sess:\n",
    "    tf.global_variables_initializer().run()\n",
    "    print('Training set loss:')\n",
    "    for epoch_idx in range(num_epochs):\n",
    "\n",
    "        _current_state = np.zeros((num_layers, 2, batch_size, state_size))\n",
    "        batch_loss = [] \n",
    "        #batch_indv_loss = []\n",
    "        for batch_idx in range(num_batches):\n",
    "\n",
    "            _total_loss, _train_step, _current_state = sess.run(\n",
    "                [total_loss, train_step, current_state],\n",
    "                feed_dict={\n",
    "                    batchX_placeholder: batchesX[batch_idx],\n",
    "                    batchY_placeholder: batchesY[batch_idx],\n",
    "                    init_state: _current_state,\n",
    "                    keep_prob: 0.5,\n",
    "                    learning_rate: lr\n",
    "                })\n",
    "            #batch_indv_loss.append(np.mean(indv_losses,axis=0))\n",
    "            batch_loss.append(_total_loss) \n",
    "            \n",
    "        loss_list.append(np.mean(batch_loss))\n",
    "        if np.argmin(loss_list[-10:]) == 0:\n",
    "            lr *= .95\n",
    "            print('lr decreased to', lr)\n",
    "        #indv_loss_list.append(np.mean(np.sqrt(batch_indv_loss),axis=0))\n",
    "        if epoch_idx % 50 == 0:\n",
    "                print(\"Epoch\", epoch_idx, \"avg. batch loss\", np.mean(batch_loss)) \n",
    "    \n",
    "    _current_state = np.zeros((num_layers, 2, batch_size, state_size))\n",
    "    batch_indv_loss = []\n",
    "    for batch_idx in range(num_batches_test):\n",
    "        start_idx = batch_idx\n",
    "        end_idx = start_idx + truncated_backprop_length\n",
    "        \n",
    "        batchX = xtest[:, start_idx:end_idx]\n",
    "        batchY = ytest[:, start_idx:end_idx]\n",
    "        \n",
    "        _total_loss, indv_losses = sess.run(\n",
    "                [total_loss, losses],\n",
    "                feed_dict={\n",
    "                    batchX_placeholder: batchesX[batch_idx],\n",
    "                    batchY_placeholder: batchesY[batch_idx],\n",
    "                    init_state: _current_state,\n",
    "                    keep_prob: 1\n",
    "                })\n",
    "        batch_indv_loss.append(indv_losses)     \n",
    "        batch_loss.append(_total_loss)\n",
    "#indv_loss_list = np.array(indv_loss_list)\n",
    "indv_loss = np.mean(batch_indv_loss, axis=0)\n",
    "print('Test set loss:', np.mean(batch_loss))\n",
    "for i, col in enumerate(df.columns):\n",
    "    print(col + ' loss:', np.round(indv_loss[i],3))\n",
    "plt.figure(figsize=(20,20))\n",
    "#for i, col in enumerate(train_data.columns):\n",
    "#    plt.plot(indv_loss_list[50:,i], label = col)\n",
    "plt.plot(loss_list[50:], label='Total')\n",
    "#plt.plot(np.convolve(loss_list[50:], np.ones((10,))/10, mode='valid'), color='black', label='Total (Smooth)')\n",
    "plt.ylabel('loss')\n",
    "plt.xlabel('epochs')\n",
    "plt.legend()\n",
    "plt.show()\n",
    "    \n"
   ]
  },
  {
   "cell_type": "code",
   "execution_count": 86,
   "metadata": {
    "autoscroll": "json-false",
    "collapsed": false,
    "ein.tags": [
     "worksheet-0"
    ],
    "slideshow": {
     "slide_type": "-"
    }
   },
   "outputs": [
    {
     "data": {
      "text/plain": [
       "0"
      ]
     },
     "execution_count": 86,
     "metadata": {},
     "output_type": "execute_result"
    }
   ],
   "source": [
    "ien = [1 ,2 ,3 ,4 ,5 ,6]\n",
    "np.argmin(ien[-5:])"
   ]
  },
  {
   "cell_type": "code",
   "execution_count": null,
   "metadata": {
    "collapsed": true
   },
   "outputs": [],
   "source": []
  }
 ],
 "metadata": {
  "kernelspec": {
   "display_name": "sarcoma",
   "language": "python",
   "name": "sarcoma"
  },
  "language_info": {
   "codemirror_mode": {
    "name": "ipython",
    "version": 3
   },
   "file_extension": ".py",
   "mimetype": "text/x-python",
   "name": "python",
   "nbconvert_exporter": "python",
   "pygments_lexer": "ipython3",
   "version": "3.5.3"
  },
  "name": "Untitled.ipynb"
 },
 "nbformat": 4,
 "nbformat_minor": 0
}
