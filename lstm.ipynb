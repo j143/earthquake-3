{
 "cells": [
  {
   "cell_type": "code",
   "execution_count": 63,
   "metadata": {
    "autoscroll": "json-false",
    "collapsed": false,
    "ein.tags": [
     "worksheet-0"
    ],
    "slideshow": {
     "slide_type": "-"
    }
   },
   "outputs": [],
   "source": [
    "import tensorflow as tf\n",
    "import matplotlib.pyplot as plt\n",
    "import numpy as np\n",
    "import pandas as pd\n",
    "import matplotlib\n",
    "import sklearn\n",
    "from sklearn_pandas import DataFrameMapper\n",
    "matplotlib.style.use('ggplot')\n",
    "%matplotlib inline"
   ]
  },
  {
   "cell_type": "code",
   "execution_count": 23,
   "metadata": {
    "autoscroll": "json-false",
    "collapsed": false,
    "ein.tags": [
     "worksheet-0"
    ],
    "slideshow": {
     "slide_type": "-"
    }
   },
   "outputs": [],
   "source": [
    "df = pd.read_csv('india_surroundings_1mar2016 _28_feb_2017.csv')\n",
    "del df['IRIS ID'], df['Year'], df['Month'], df['Day'], df['Time UTC'], df['Region']\n",
    "df = df.iloc[::-1]"
   ]
  },
  {
   "cell_type": "code",
   "execution_count": 24,
   "metadata": {
    "autoscroll": "json-false",
    "collapsed": false,
    "ein.tags": [
     "worksheet-0"
    ],
    "slideshow": {
     "slide_type": "-"
    }
   },
   "outputs": [],
   "source": [
    "train_test_ratio = .8\n",
    "train_size = int(df.shape[0] * train_test_ratio)\n",
    "train_data = df[:train_size]\n",
    "test_data = df[train_size:]"
   ]
  },
  {
   "cell_type": "code",
   "execution_count": 25,
   "metadata": {
    "autoscroll": "json-false",
    "collapsed": false,
    "ein.tags": [
     "worksheet-0"
    ],
    "slideshow": {
     "slide_type": "-"
    }
   },
   "outputs": [],
   "source": [
    "#mean_lat_longs = train_data.groupby('Region').mean()[['Lat','Lon']]\n",
    "#replace lat_long"
   ]
  },
  {
   "cell_type": "code",
   "execution_count": 26,
   "metadata": {
    "autoscroll": "json-false",
    "collapsed": false,
    "ein.tags": [
     "worksheet-0"
    ],
    "slideshow": {
     "slide_type": "-"
    }
   },
   "outputs": [
    {
     "name": "stderr",
     "output_type": "stream",
     "text": [
      "/home/nikhil/.conda/envs/sarcoma/lib/python3.5/site-packages/sklearn/utils/validation.py:429: DataConversionWarning: Data with input dtype int64 was converted to float64 by StandardScaler.\n",
      "  warnings.warn(msg, _DataConversionWarning)\n"
     ]
    }
   ],
   "source": [
    "mapper = DataFrameMapper([\n",
    "        (['Mag'],sklearn.preprocessing.StandardScaler()),\n",
    "        (['Depth km'],sklearn.preprocessing.StandardScaler()),\n",
    "        (['Lat'],sklearn.preprocessing.StandardScaler()),\n",
    "        (['Lon'],sklearn.preprocessing.StandardScaler()),\n",
    "        (['Timestamp'], sklearn.preprocessing.StandardScaler()) \n",
    "    ], df_out=True)\n",
    "train_data = mapper.fit_transform(train_data)\n",
    "train_data[['Mag','Lat','Lon','Timestamp','Depth km']] = train_data[['Mag','Lat','Lon','Timestamp','Depth km']].astype(float)\n",
    "test_data = mapper.transform(test_data)\n",
    "test_data[['Mag','Lat','Lon','Timestamp','Depth km']] = test_data[['Mag','Lat','Lon','Timestamp','Depth km']].astype(float)"
   ]
  },
  {
   "cell_type": "code",
   "execution_count": 0,
   "metadata": {
    "autoscroll": "json-false",
    "collapsed": false,
    "ein.tags": [
     "worksheet-0"
    ],
    "slideshow": {
     "slide_type": "-"
    }
   },
   "outputs": [],
   "source": []
  },
  {
   "cell_type": "code",
   "execution_count": 107,
   "metadata": {
    "autoscroll": "json-false",
    "collapsed": false,
    "ein.tags": [
     "worksheet-0"
    ],
    "slideshow": {
     "slide_type": "-"
    }
   },
   "outputs": [
    {
     "data": {
      "image/png": "[encoded data removed]",
      "text/plain": [
       "<matplotlib.figure.Figure at 0x7f3b62572b38>"
      ]
     },
     "metadata": {},
     "output_type": "display_data"
    },
    {
     "name": "stdout",
     "output_type": "stream",
     "text": [
      "Test set loss: 0.331214\n"
     ]
    },
    {
     "name": "stdout",
     "output_type": "stream",
     "text": [
      "Epoch 950 avg. batch loss 0.329776\n"
     ]
    },
    {
     "name": "stdout",
     "output_type": "stream",
     "text": [
      "Epoch 900 avg. batch loss 0.337832\n"
     ]
    },
    {
     "name": "stdout",
     "output_type": "stream",
     "text": [
      "Epoch 850 avg. batch loss 0.327502\n"
     ]
    },
    {
     "name": "stdout",
     "output_type": "stream",
     "text": [
      "Epoch 800 avg. batch loss 0.333673\n"
     ]
    },
    {
     "name": "stdout",
     "output_type": "stream",
     "text": [
      "Epoch 750 avg. batch loss 0.33805\n"
     ]
    },
    {
     "name": "stdout",
     "output_type": "stream",
     "text": [
      "Epoch 700 avg. batch loss 0.339172\n"
     ]
    },
    {
     "name": "stdout",
     "output_type": "stream",
     "text": [
      "Epoch 650 avg. batch loss 0.341729\n"
     ]
    },
    {
     "name": "stdout",
     "output_type": "stream",
     "text": [
      "Epoch 600 avg. batch loss 0.334935\n"
     ]
    },
    {
     "name": "stdout",
     "output_type": "stream",
     "text": [
      "Epoch 550 avg. batch loss 0.33577\n"
     ]
    },
    {
     "name": "stdout",
     "output_type": "stream",
     "text": [
      "Epoch 500 avg. batch loss 0.346361\n"
     ]
    },
    {
     "name": "stdout",
     "output_type": "stream",
     "text": [
      "Epoch 450 avg. batch loss 0.343291\n"
     ]
    },
    {
     "name": "stdout",
     "output_type": "stream",
     "text": [
      "Epoch 400 avg. batch loss 0.342302\n"
     ]
    },
    {
     "name": "stdout",
     "output_type": "stream",
     "text": [
      "Epoch 350 avg. batch loss 0.351712\n"
     ]
    },
    {
     "name": "stdout",
     "output_type": "stream",
     "text": [
      "Epoch 300 avg. batch loss 0.350793\n"
     ]
    },
    {
     "name": "stdout",
     "output_type": "stream",
     "text": [
      "Epoch 250 avg. batch loss 0.348228\n"
     ]
    },
    {
     "name": "stdout",
     "output_type": "stream",
     "text": [
      "Epoch 200 avg. batch loss 0.353556\n"
     ]
    },
    {
     "name": "stdout",
     "output_type": "stream",
     "text": [
      "Epoch 150 avg. batch loss 0.361547\n"
     ]
    },
    {
     "name": "stdout",
     "output_type": "stream",
     "text": [
      "Epoch 100 avg. batch loss 0.376252\n"
     ]
    },
    {
     "name": "stdout",
     "output_type": "stream",
     "text": [
      "Epoch 50 avg. batch loss 0.452066\n"
     ]
    },
    {
     "name": "stdout",
     "output_type": "stream",
     "text": [
      "Epoch 0 avg. batch loss 0.889705\n"
     ]
    },
    {
     "name": "stdout",
     "output_type": "stream",
     "text": [
      "Training set loss:\n"
     ]
    },
    {
     "data": {
      "text/plain": [
       "<matplotlib.figure.Figure at 0x7f3b769dfe80>"
      ]
     },
     "metadata": {},
     "output_type": "display_data"
    }
   ],
   "source": [
    "num_epochs = 1000 \n",
    "truncated_backprop_length = 15\n",
    "state_size = 15 \n",
    "echo_step = 3\n",
    "batch_size = 4 # must be a factor of train data and test data size\n",
    "num_outputs = num_features\n",
    "total_series_length, num_features = train_data.shape\n",
    "num_batches = total_series_length - (total_series_length//batch_size*(batch_size-1) + truncated_backprop_length-1)\n",
    "num_layers = 3 \n",
    "num_features = train_data.shape[1]\n",
    "x = train_data.values\n",
    "y = np.roll(x, echo_step)\n",
    "y[0:echo_step] = np.zeros(num_features)\n",
    "x = x.reshape((batch_size, -1, num_features))\n",
    "y = y.reshape((batch_size, -1, num_features))\n",
    "\n",
    "xtest = test_data.values \n",
    "ytest = np.roll(xtest, echo_step)\n",
    "ytest[0:echo_step] = np.zeros(num_features)\n",
    "xtest = xtest.reshape((batch_size, -1, num_features))\n",
    "ytest = ytest.reshape((batch_size, -1, num_features))\n",
    "total_series_length, _ = test_data.shape\n",
    "num_batches_test = total_series_length - (total_series_length//batch_size*(batch_size-1) + truncated_backprop_length-1)\n",
    "\n",
    "graph = tf.Graph()\n",
    "with graph.as_default():\n",
    "\n",
    "    batchX_placeholder = tf.placeholder(tf.float32, [batch_size, truncated_backprop_length, num_features])\n",
    "    batchY_placeholder = tf.placeholder(tf.float32, [batch_size, truncated_backprop_length, num_features])\n",
    "\n",
    "    init_state = tf.placeholder(tf.float32, [num_layers, 2, batch_size, state_size])\n",
    "\n",
    "    state_per_layer_list = tf.unstack(init_state, axis=0)\n",
    "    rnn_tuple_state = tuple([tf.contrib.rnn.core_rnn_cell.LSTMStateTuple(state_per_layer_list[idx][0], state_per_layer_list[idx][1])\n",
    "                   for idx in range(num_layers)])\n",
    "\n",
    "    W = tf.Variable(np.random.rand(state_size+num_features, state_size), dtype=tf.float32)\n",
    "    b = tf.Variable(np.zeros((1,state_size)), dtype=tf.float32)\n",
    "\n",
    "    W2 = tf.Variable(np.random.rand(state_size, num_outputs),dtype=tf.float32)\n",
    "    b2 = tf.Variable(np.zeros((1,num_outputs)), dtype=tf.float32)\n",
    "\n",
    "    # Forward passes\n",
    "    cell = tf.contrib.rnn.core_rnn_cell.LSTMCell(state_size, state_is_tuple=True)\n",
    "    cell = tf.contrib.rnn.core_rnn_cell.DropoutWrapper(cell, output_keep_prob=0.5)\n",
    "    cell = tf.contrib.rnn.core_rnn_cell.MultiRNNCell([cell] * num_layers, state_is_tuple=True)\n",
    "\n",
    "    states_series, current_state = tf.nn.dynamic_rnn(cell, batchX_placeholder, initial_state=rnn_tuple_state)\n",
    "    states_series = tf.reshape(states_series, [-1, state_size])\n",
    "\n",
    "    outputs = tf.matmul(states_series, W2) + b2\n",
    "    targets = tf.reshape(batchY_placeholder, [-1, num_features])\n",
    "\n",
    "    losses = tf.square(tf.subtract(outputs, targets))\n",
    "    total_loss = tf.reduce_mean(losses)\n",
    "    step = tf.Variable(0, trainable=False)\n",
    "    learning_rate = tf.train.exponential_decay(\n",
    "        0.3,                # Base learning rate.\n",
    "        step * batch_size,  # Current index into the dataset.\n",
    "        300,          # Decay step.\n",
    "        0.95,                # Decay rate.\n",
    "    staircase=True)\n",
    "    train_step = tf.train.AdagradOptimizer(learning_rate).minimize(total_loss)\n",
    "\n",
    "\n",
    "\n",
    "with tf.Session(graph=graph) as sess:\n",
    "    tf.global_variables_initializer().run()\n",
    "    plt.ion()\n",
    "    plt.figure()\n",
    "    plt.show()\n",
    "    loss_list = [] \n",
    "    print('Training set loss:')\n",
    "    for epoch_idx in range(num_epochs):\n",
    "\n",
    "        _current_state = np.zeros((num_layers, 2, batch_size, state_size))\n",
    "        batch_loss = [] \n",
    "\n",
    "        for batch_idx in range(num_batches):\n",
    "            start_idx = batch_idx\n",
    "            end_idx = start_idx + truncated_backprop_length\n",
    "\n",
    "            batchX = x[:, start_idx:end_idx]\n",
    "            batchY = y[:, start_idx:end_idx]\n",
    "\n",
    "            _total_loss, _train_step, _current_state, = sess.run(\n",
    "                [total_loss, train_step, current_state],\n",
    "                feed_dict={\n",
    "                    batchX_placeholder: batchX,\n",
    "                    batchY_placeholder: batchY,\n",
    "                    init_state: _current_state\n",
    "                })\n",
    "            \n",
    "            batch_loss.append(_total_loss) \n",
    "\n",
    "        loss_list.append(np.mean(batch_loss))\n",
    "        if epoch_idx % 50 == 0:\n",
    "                print(\"Epoch\", epoch_idx, \"avg. batch loss\", np.mean(batch_loss)) \n",
    "    \n",
    "    _current_state = np.zeros((num_layers, 2, batch_size, state_size))\n",
    "    for batch_idx in range(num_batches_test):\n",
    "        start_idx = batch_idx\n",
    "        end_idx = start_idx + truncated_backprop_length\n",
    "        \n",
    "        batchX = xtest[:, start_idx:end_idx]\n",
    "        batchY = ytest[:, start_idx:end_idx]\n",
    "        \n",
    "        _total_loss = total_loss.run(\n",
    "            feed_dict={\n",
    "                batchX_placeholder: batchX,\n",
    "                batchY_placeholder: batchY,\n",
    "                init_state: _current_state\n",
    "            })\n",
    "        \n",
    "        batch_loss.append(_total_loss) \n",
    "\n",
    "    print('Test set loss:', np.mean(batch_loss))\n",
    "    plt.plot(loss_list)\n",
    "    plt.show()\n"
   ]
  },
  {
   "cell_type": "code",
   "execution_count": 0,
   "metadata": {
    "autoscroll": "json-false",
    "collapsed": false,
    "ein.tags": [
     "worksheet-0"
    ],
    "slideshow": {
     "slide_type": "-"
    }
   },
   "outputs": [],
   "source": []
  }
 ],
 "metadata": {
  "kernelspec": {
   "display_name": "sarcoma",
   "name": "sarcoma"
  },
  "language_info": {
   "codemirror_mode": {
    "name": "ipython",
    "version": 3
   },
   "file_extension": ".py",
   "mimetype": "text/x-python",
   "name": "python",
   "nbconvert_exporter": "python",
   "pygments_lexer": "ipython3",
   "version": "3.5.3"
  },
  "name": "Untitled.ipynb"
 },
 "nbformat": 4,
 "nbformat_minor": 0
}
